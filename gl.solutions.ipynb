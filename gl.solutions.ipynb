{
 "metadata": {
  "name": "",
  "signature": "sha256:be63415b544d046de295ba14c743d369b3ee58f61d09688efd95e57fccb273b2"
 },
 "nbformat": 3,
 "nbformat_minor": 0,
 "worksheets": [
  {
   "cells": [
    {
     "cell_type": "heading",
     "level": 1,
     "metadata": {},
     "source": [
      "I. SGraph and Graph Analytics"
     ]
    },
    {
     "cell_type": "markdown",
     "metadata": {},
     "source": [
      "Use the countries and results from two World Cup groups to explore SGraph construction, summarization, visualization, and filtering. Ties are represented by bi-directional edges."
     ]
    },
    {
     "cell_type": "heading",
     "level": 2,
     "metadata": {},
     "source": [
      "The data"
     ]
    },
    {
     "cell_type": "markdown",
     "metadata": {},
     "source": [
      "The data consist of country names with the World Cup group they belonged to, plus tuples indicating the winners and losers in the group stage games. It was transcribed from http://www.fifa.com/worldcup/matches/index.html."
     ]
    },
    {
     "cell_type": "code",
     "collapsed": false,
     "input": [
      "countries = {\n",
      "    'usa': 'G',\n",
      "    'ghana': 'G',\n",
      "    'germany': 'G',\n",
      "    'portugal': 'G',\n",
      "    'england': 'D',\n",
      "    'italy': 'D',\n",
      "    'costa rica': 'D',\n",
      "    'uruguay': 'D'}"
     ],
     "language": "python",
     "metadata": {},
     "outputs": [],
     "prompt_number": 2
    },
    {
     "cell_type": "code",
     "collapsed": false,
     "input": [
      "results = [\n",
      "    ('portugal', 'germany'),\n",
      "    ('ghana', 'usa'),\n",
      "    ('portugal', 'usa'),\n",
      "    ('usa', 'portugal'),\n",
      "    ('usa', 'germany'),\n",
      "    ('ghana', 'portugal'),\n",
      "    ('ghana', 'germany'),\n",
      "    ('germany', 'ghana'),\n",
      "    ('england', 'italy'),\n",
      "    ('england', 'uruguay'),\n",
      "    ('england', 'costa rica'),\n",
      "    ('costa rica', 'england'),\n",
      "    ('uruguay', 'costa rica'),\n",
      "    ('italy', 'costa rica'),\n",
      "    ('italy', 'uruguay')]"
     ],
     "language": "python",
     "metadata": {},
     "outputs": [],
     "prompt_number": 3
    },
    {
     "cell_type": "heading",
     "level": 2,
     "metadata": {},
     "source": [
      "Construct the graph"
     ]
    },
    {
     "cell_type": "markdown",
     "metadata": {},
     "source": [
      "- <span style=\"color:red\">Construct [SFrames](http://graphlab.com/products/create/docs/generated/graphlab.SFrame.html#graphlab.SFrame) for the vertex and edge data.</span>\n",
      "- <span style=\"color:red\">Make an empty [SGraph](http://graphlab.com/products/create/docs/generated/graphlab.SGraph.html#graphlab.SGraph).</span>\n",
      "- <span style=\"color:red\">Add the vertices and edges to the graph.</span>"
     ]
    },
    {
     "cell_type": "code",
     "collapsed": false,
     "input": [
      "import graphlab as gl"
     ],
     "language": "python",
     "metadata": {},
     "outputs": [],
     "prompt_number": 4
    },
    {
     "cell_type": "code",
     "collapsed": false,
     "input": [
      "verts = gl.SFrame({'name': countries.keys(),\n",
      "                   'group': countries.values()})\n",
      "verts"
     ],
     "language": "python",
     "metadata": {},
     "outputs": [
      {
       "output_type": "stream",
       "stream": "stderr",
       "text": [
        "[INFO] Start server at: ipc:///tmp/graphlab_server-13433 - Server binary: /home/alicez/graphlab-test/lib/python2.7/site-packages/graphlab/unity_server - Server log: /tmp/graphlab_server_1410573790.log\n"
       ]
      },
      {
       "output_type": "stream",
       "stream": "stderr",
       "text": [
        "[INFO] GraphLab Server Version: 0.9.1\n"
       ]
      },
      {
       "html": [
        "<div style=\"max-height:1000px;max-width:1500px;overflow:auto;\"><table frame=\"box\" rules=\"cols\">\n",
        "    <tr>\n",
        "        <th style=\"padding-left: 1em; padding-right: 1em; text-align: center\">group</th>\n",
        "        <th style=\"padding-left: 1em; padding-right: 1em; text-align: center\">name</th>\n",
        "    </tr>\n",
        "    <tr>\n",
        "        <td style=\"padding-left: 1em; padding-right: 1em; text-align: center; vertical-align: top\">G</td>\n",
        "        <td style=\"padding-left: 1em; padding-right: 1em; text-align: center; vertical-align: top\">ghana</td>\n",
        "    </tr>\n",
        "    <tr>\n",
        "        <td style=\"padding-left: 1em; padding-right: 1em; text-align: center; vertical-align: top\">G</td>\n",
        "        <td style=\"padding-left: 1em; padding-right: 1em; text-align: center; vertical-align: top\">germany</td>\n",
        "    </tr>\n",
        "    <tr>\n",
        "        <td style=\"padding-left: 1em; padding-right: 1em; text-align: center; vertical-align: top\">G</td>\n",
        "        <td style=\"padding-left: 1em; padding-right: 1em; text-align: center; vertical-align: top\">portugal</td>\n",
        "    </tr>\n",
        "    <tr>\n",
        "        <td style=\"padding-left: 1em; padding-right: 1em; text-align: center; vertical-align: top\">G</td>\n",
        "        <td style=\"padding-left: 1em; padding-right: 1em; text-align: center; vertical-align: top\">usa</td>\n",
        "    </tr>\n",
        "    <tr>\n",
        "        <td style=\"padding-left: 1em; padding-right: 1em; text-align: center; vertical-align: top\">D</td>\n",
        "        <td style=\"padding-left: 1em; padding-right: 1em; text-align: center; vertical-align: top\">uruguay</td>\n",
        "    </tr>\n",
        "    <tr>\n",
        "        <td style=\"padding-left: 1em; padding-right: 1em; text-align: center; vertical-align: top\">D</td>\n",
        "        <td style=\"padding-left: 1em; padding-right: 1em; text-align: center; vertical-align: top\">england</td>\n",
        "    </tr>\n",
        "    <tr>\n",
        "        <td style=\"padding-left: 1em; padding-right: 1em; text-align: center; vertical-align: top\">D</td>\n",
        "        <td style=\"padding-left: 1em; padding-right: 1em; text-align: center; vertical-align: top\">italy</td>\n",
        "    </tr>\n",
        "    <tr>\n",
        "        <td style=\"padding-left: 1em; padding-right: 1em; text-align: center; vertical-align: top\">D</td>\n",
        "        <td style=\"padding-left: 1em; padding-right: 1em; text-align: center; vertical-align: top\">costa rica</td>\n",
        "    </tr>\n",
        "</table>\n",
        "[8 rows x 2 columns]<br/>\n",
        "</div>"
       ],
       "metadata": {},
       "output_type": "pyout",
       "prompt_number": 5,
       "text": [
        "Columns:\n",
        "\tgroup\tstr\n",
        "\tname\tstr\n",
        "\n",
        "Rows: 8\n",
        "\n",
        "Data:\n",
        "+-------+------------+\n",
        "| group |    name    |\n",
        "+-------+------------+\n",
        "|   G   |   ghana    |\n",
        "|   G   |  germany   |\n",
        "|   G   |  portugal  |\n",
        "|   G   |    usa     |\n",
        "|   D   |  uruguay   |\n",
        "|   D   |  england   |\n",
        "|   D   |   italy    |\n",
        "|   D   | costa rica |\n",
        "+-------+------------+\n",
        "[8 rows x 2 columns]"
       ]
      }
     ],
     "prompt_number": 5
    },
    {
     "cell_type": "code",
     "collapsed": false,
     "input": [
      "losers, winners = zip(*results)\n",
      "edges = gl.SFrame({'loser': list(losers),\n",
      "                   'winner': list(winners)})\n",
      "edges"
     ],
     "language": "python",
     "metadata": {},
     "outputs": [
      {
       "html": [
        "<div style=\"max-height:1000px;max-width:1500px;overflow:auto;\"><table frame=\"box\" rules=\"cols\">\n",
        "    <tr>\n",
        "        <th style=\"padding-left: 1em; padding-right: 1em; text-align: center\">loser</th>\n",
        "        <th style=\"padding-left: 1em; padding-right: 1em; text-align: center\">winner</th>\n",
        "    </tr>\n",
        "    <tr>\n",
        "        <td style=\"padding-left: 1em; padding-right: 1em; text-align: center; vertical-align: top\">portugal</td>\n",
        "        <td style=\"padding-left: 1em; padding-right: 1em; text-align: center; vertical-align: top\">germany</td>\n",
        "    </tr>\n",
        "    <tr>\n",
        "        <td style=\"padding-left: 1em; padding-right: 1em; text-align: center; vertical-align: top\">ghana</td>\n",
        "        <td style=\"padding-left: 1em; padding-right: 1em; text-align: center; vertical-align: top\">usa</td>\n",
        "    </tr>\n",
        "    <tr>\n",
        "        <td style=\"padding-left: 1em; padding-right: 1em; text-align: center; vertical-align: top\">portugal</td>\n",
        "        <td style=\"padding-left: 1em; padding-right: 1em; text-align: center; vertical-align: top\">usa</td>\n",
        "    </tr>\n",
        "    <tr>\n",
        "        <td style=\"padding-left: 1em; padding-right: 1em; text-align: center; vertical-align: top\">usa</td>\n",
        "        <td style=\"padding-left: 1em; padding-right: 1em; text-align: center; vertical-align: top\">portugal</td>\n",
        "    </tr>\n",
        "    <tr>\n",
        "        <td style=\"padding-left: 1em; padding-right: 1em; text-align: center; vertical-align: top\">usa</td>\n",
        "        <td style=\"padding-left: 1em; padding-right: 1em; text-align: center; vertical-align: top\">germany</td>\n",
        "    </tr>\n",
        "    <tr>\n",
        "        <td style=\"padding-left: 1em; padding-right: 1em; text-align: center; vertical-align: top\">ghana</td>\n",
        "        <td style=\"padding-left: 1em; padding-right: 1em; text-align: center; vertical-align: top\">portugal</td>\n",
        "    </tr>\n",
        "    <tr>\n",
        "        <td style=\"padding-left: 1em; padding-right: 1em; text-align: center; vertical-align: top\">ghana</td>\n",
        "        <td style=\"padding-left: 1em; padding-right: 1em; text-align: center; vertical-align: top\">germany</td>\n",
        "    </tr>\n",
        "    <tr>\n",
        "        <td style=\"padding-left: 1em; padding-right: 1em; text-align: center; vertical-align: top\">germany</td>\n",
        "        <td style=\"padding-left: 1em; padding-right: 1em; text-align: center; vertical-align: top\">ghana</td>\n",
        "    </tr>\n",
        "    <tr>\n",
        "        <td style=\"padding-left: 1em; padding-right: 1em; text-align: center; vertical-align: top\">england</td>\n",
        "        <td style=\"padding-left: 1em; padding-right: 1em; text-align: center; vertical-align: top\">italy</td>\n",
        "    </tr>\n",
        "    <tr>\n",
        "        <td style=\"padding-left: 1em; padding-right: 1em; text-align: center; vertical-align: top\">england</td>\n",
        "        <td style=\"padding-left: 1em; padding-right: 1em; text-align: center; vertical-align: top\">uruguay</td>\n",
        "    </tr>\n",
        "    <tr>\n",
        "        <td style=\"padding-left: 1em; padding-right: 1em; text-align: center; vertical-align: top\">...</td>\n",
        "        <td style=\"padding-left: 1em; padding-right: 1em; text-align: center; vertical-align: top\">...</td>\n",
        "    </tr>\n",
        "</table>\n",
        "[15 rows x 2 columns]<br/>Note: Only the head of the SFrame is printed.<br/>You can use print_rows(num_rows=m, num_columns=n) to print more rows and columns.\n",
        "</div>"
       ],
       "metadata": {},
       "output_type": "pyout",
       "prompt_number": 6,
       "text": [
        "Columns:\n",
        "\tloser\tstr\n",
        "\twinner\tstr\n",
        "\n",
        "Rows: 15\n",
        "\n",
        "Data:\n",
        "+----------+----------+\n",
        "|  loser   |  winner  |\n",
        "+----------+----------+\n",
        "| portugal | germany  |\n",
        "|  ghana   |   usa    |\n",
        "| portugal |   usa    |\n",
        "|   usa    | portugal |\n",
        "|   usa    | germany  |\n",
        "|  ghana   | portugal |\n",
        "|  ghana   | germany  |\n",
        "| germany  |  ghana   |\n",
        "| england  |  italy   |\n",
        "| england  | uruguay  |\n",
        "|   ...    |   ...    |\n",
        "+----------+----------+\n",
        "[15 rows x 2 columns]\n",
        "Note: Only the head of the SFrame is printed.\n",
        "You can use print_rows(num_rows=m, num_columns=n) to print more rows and columns."
       ]
      }
     ],
     "prompt_number": 6
    },
    {
     "cell_type": "code",
     "collapsed": false,
     "input": [
      "sg = gl.SGraph()\n",
      "sg = sg.add_vertices(verts, vid_field='name')\n",
      "sg = sg.add_edges(edges, src_field='loser', dst_field='winner')"
     ],
     "language": "python",
     "metadata": {},
     "outputs": [],
     "prompt_number": 7
    },
    {
     "cell_type": "heading",
     "level": 2,
     "metadata": {},
     "source": [
      "Summarize and visualize the graph"
     ]
    },
    {
     "cell_type": "markdown",
     "metadata": {},
     "source": [
      "- <span style=\"color:red\">Summarize the graph. How many vertices and eges are there?</span>\n",
      "- <span style=\"color:red\">Show the graph. Highlight the teams from North America, and use arrows to indicate the winner of each match. This time show the graph in a new tab in the browser, rather than in the notebook.</span>\n",
      "- <span style=\"color:red\">Extract the vertices and edges as SFrames. Do the numbers of rows and edges match the summary?</span>"
     ]
    },
    {
     "cell_type": "markdown",
     "metadata": {},
     "source": [
      "The [summary](http://graphlab.com/products/create/docs/generated/graphlab.SGraph.summary.html#graphlab.SGraph.summary) method gives the number of vertices and edges in the graph, which is often the best place to start."
     ]
    },
    {
     "cell_type": "code",
     "collapsed": false,
     "input": [
      "sg.summary()"
     ],
     "language": "python",
     "metadata": {},
     "outputs": [
      {
       "metadata": {},
       "output_type": "pyout",
       "prompt_number": 8,
       "text": [
        "{'num_edges': 15, 'num_vertices': 8}"
       ]
      }
     ],
     "prompt_number": 8
    },
    {
     "cell_type": "markdown",
     "metadata": {},
     "source": [
      "In the demo we saw the GraphLab canvas in-line in the IPython Notebook. Another option is to have the output appear in another tab of the browser. Set this with the GraphLab Canvas [set_target](http://graphlab.com/products/create/docs/generated/graphlab.canvas.set_target.html) method."
     ]
    },
    {
     "cell_type": "code",
     "collapsed": false,
     "input": [
      "gl.canvas.set_target('browser')\n",
      "sg.show(vlabel='id', arrows=True, ewidth=1.5, highlight=['usa', 'costa rica'])"
     ],
     "language": "python",
     "metadata": {},
     "outputs": [],
     "prompt_number": 9
    },
    {
     "cell_type": "markdown",
     "metadata": {},
     "source": [
      "The graph's SFrames for vertices and edges show there are indeed 8 vertices (with a 'group' attribute) and 15 edges (with no attributes)."
     ]
    },
    {
     "cell_type": "code",
     "collapsed": false,
     "input": [
      "sf_vert = sg.vertices\n",
      "sf_vert"
     ],
     "language": "python",
     "metadata": {},
     "outputs": [
      {
       "html": [
        "<div style=\"max-height:1000px;max-width:1500px;overflow:auto;\"><table frame=\"box\" rules=\"cols\">\n",
        "    <tr>\n",
        "        <th style=\"padding-left: 1em; padding-right: 1em; text-align: center\">__id</th>\n",
        "        <th style=\"padding-left: 1em; padding-right: 1em; text-align: center\">group</th>\n",
        "    </tr>\n",
        "    <tr>\n",
        "        <td style=\"padding-left: 1em; padding-right: 1em; text-align: center; vertical-align: top\">ghana</td>\n",
        "        <td style=\"padding-left: 1em; padding-right: 1em; text-align: center; vertical-align: top\">G</td>\n",
        "    </tr>\n",
        "    <tr>\n",
        "        <td style=\"padding-left: 1em; padding-right: 1em; text-align: center; vertical-align: top\">costa rica</td>\n",
        "        <td style=\"padding-left: 1em; padding-right: 1em; text-align: center; vertical-align: top\">D</td>\n",
        "    </tr>\n",
        "    <tr>\n",
        "        <td style=\"padding-left: 1em; padding-right: 1em; text-align: center; vertical-align: top\">portugal</td>\n",
        "        <td style=\"padding-left: 1em; padding-right: 1em; text-align: center; vertical-align: top\">G</td>\n",
        "    </tr>\n",
        "    <tr>\n",
        "        <td style=\"padding-left: 1em; padding-right: 1em; text-align: center; vertical-align: top\">usa</td>\n",
        "        <td style=\"padding-left: 1em; padding-right: 1em; text-align: center; vertical-align: top\">G</td>\n",
        "    </tr>\n",
        "    <tr>\n",
        "        <td style=\"padding-left: 1em; padding-right: 1em; text-align: center; vertical-align: top\">england</td>\n",
        "        <td style=\"padding-left: 1em; padding-right: 1em; text-align: center; vertical-align: top\">D</td>\n",
        "    </tr>\n",
        "    <tr>\n",
        "        <td style=\"padding-left: 1em; padding-right: 1em; text-align: center; vertical-align: top\">germany</td>\n",
        "        <td style=\"padding-left: 1em; padding-right: 1em; text-align: center; vertical-align: top\">G</td>\n",
        "    </tr>\n",
        "    <tr>\n",
        "        <td style=\"padding-left: 1em; padding-right: 1em; text-align: center; vertical-align: top\">italy</td>\n",
        "        <td style=\"padding-left: 1em; padding-right: 1em; text-align: center; vertical-align: top\">D</td>\n",
        "    </tr>\n",
        "    <tr>\n",
        "        <td style=\"padding-left: 1em; padding-right: 1em; text-align: center; vertical-align: top\">uruguay</td>\n",
        "        <td style=\"padding-left: 1em; padding-right: 1em; text-align: center; vertical-align: top\">D</td>\n",
        "    </tr>\n",
        "</table>\n",
        "[8 rows x 2 columns]<br/>\n",
        "</div>"
       ],
       "metadata": {},
       "output_type": "pyout",
       "prompt_number": 10,
       "text": [
        "Columns:\n",
        "\t__id\tstr\n",
        "\tgroup\tstr\n",
        "\n",
        "Rows: 8\n",
        "\n",
        "Data:\n",
        "+------------+-------+\n",
        "|    __id    | group |\n",
        "+------------+-------+\n",
        "|   ghana    |   G   |\n",
        "| costa rica |   D   |\n",
        "|  portugal  |   G   |\n",
        "|    usa     |   G   |\n",
        "|  england   |   D   |\n",
        "|  germany   |   G   |\n",
        "|   italy    |   D   |\n",
        "|  uruguay   |   D   |\n",
        "+------------+-------+\n",
        "[8 rows x 2 columns]"
       ]
      }
     ],
     "prompt_number": 10
    },
    {
     "cell_type": "code",
     "collapsed": false,
     "input": [
      "sf_edge = sg.edges\n",
      "sf_edge"
     ],
     "language": "python",
     "metadata": {},
     "outputs": [
      {
       "html": [
        "<div style=\"max-height:1000px;max-width:1500px;overflow:auto;\"><table frame=\"box\" rules=\"cols\">\n",
        "    <tr>\n",
        "        <th style=\"padding-left: 1em; padding-right: 1em; text-align: center\">__src_id</th>\n",
        "        <th style=\"padding-left: 1em; padding-right: 1em; text-align: center\">__dst_id</th>\n",
        "    </tr>\n",
        "    <tr>\n",
        "        <td style=\"padding-left: 1em; padding-right: 1em; text-align: center; vertical-align: top\">ghana</td>\n",
        "        <td style=\"padding-left: 1em; padding-right: 1em; text-align: center; vertical-align: top\">portugal</td>\n",
        "    </tr>\n",
        "    <tr>\n",
        "        <td style=\"padding-left: 1em; padding-right: 1em; text-align: center; vertical-align: top\">ghana</td>\n",
        "        <td style=\"padding-left: 1em; padding-right: 1em; text-align: center; vertical-align: top\">usa</td>\n",
        "    </tr>\n",
        "    <tr>\n",
        "        <td style=\"padding-left: 1em; padding-right: 1em; text-align: center; vertical-align: top\">ghana</td>\n",
        "        <td style=\"padding-left: 1em; padding-right: 1em; text-align: center; vertical-align: top\">germany</td>\n",
        "    </tr>\n",
        "    <tr>\n",
        "        <td style=\"padding-left: 1em; padding-right: 1em; text-align: center; vertical-align: top\">costa rica</td>\n",
        "        <td style=\"padding-left: 1em; padding-right: 1em; text-align: center; vertical-align: top\">england</td>\n",
        "    </tr>\n",
        "    <tr>\n",
        "        <td style=\"padding-left: 1em; padding-right: 1em; text-align: center; vertical-align: top\">portugal</td>\n",
        "        <td style=\"padding-left: 1em; padding-right: 1em; text-align: center; vertical-align: top\">usa</td>\n",
        "    </tr>\n",
        "    <tr>\n",
        "        <td style=\"padding-left: 1em; padding-right: 1em; text-align: center; vertical-align: top\">portugal</td>\n",
        "        <td style=\"padding-left: 1em; padding-right: 1em; text-align: center; vertical-align: top\">germany</td>\n",
        "    </tr>\n",
        "    <tr>\n",
        "        <td style=\"padding-left: 1em; padding-right: 1em; text-align: center; vertical-align: top\">usa</td>\n",
        "        <td style=\"padding-left: 1em; padding-right: 1em; text-align: center; vertical-align: top\">portugal</td>\n",
        "    </tr>\n",
        "    <tr>\n",
        "        <td style=\"padding-left: 1em; padding-right: 1em; text-align: center; vertical-align: top\">usa</td>\n",
        "        <td style=\"padding-left: 1em; padding-right: 1em; text-align: center; vertical-align: top\">germany</td>\n",
        "    </tr>\n",
        "    <tr>\n",
        "        <td style=\"padding-left: 1em; padding-right: 1em; text-align: center; vertical-align: top\">germany</td>\n",
        "        <td style=\"padding-left: 1em; padding-right: 1em; text-align: center; vertical-align: top\">ghana</td>\n",
        "    </tr>\n",
        "    <tr>\n",
        "        <td style=\"padding-left: 1em; padding-right: 1em; text-align: center; vertical-align: top\">england</td>\n",
        "        <td style=\"padding-left: 1em; padding-right: 1em; text-align: center; vertical-align: top\">costa rica</td>\n",
        "    </tr>\n",
        "    <tr>\n",
        "        <td style=\"padding-left: 1em; padding-right: 1em; text-align: center; vertical-align: top\">...</td>\n",
        "        <td style=\"padding-left: 1em; padding-right: 1em; text-align: center; vertical-align: top\">...</td>\n",
        "    </tr>\n",
        "</table>\n",
        "[15 rows x 2 columns]<br/>Note: Only the head of the SFrame is printed.<br/>You can use print_rows(num_rows=m, num_columns=n) to print more rows and columns.\n",
        "</div>"
       ],
       "metadata": {},
       "output_type": "pyout",
       "prompt_number": 11,
       "text": [
        "Columns:\n",
        "\t__src_id\tint\n",
        "\t__dst_id\tint\n",
        "\n",
        "Rows: 15\n",
        "\n",
        "Data:\n",
        "+------------+------------+\n",
        "|  __src_id  |  __dst_id  |\n",
        "+------------+------------+\n",
        "|   ghana    |  portugal  |\n",
        "|   ghana    |    usa     |\n",
        "|   ghana    |  germany   |\n",
        "| costa rica |  england   |\n",
        "|  portugal  |    usa     |\n",
        "|  portugal  |  germany   |\n",
        "|    usa     |  portugal  |\n",
        "|    usa     |  germany   |\n",
        "|  germany   |   ghana    |\n",
        "|  england   | costa rica |\n",
        "|    ...     |    ...     |\n",
        "+------------+------------+\n",
        "[15 rows x 2 columns]\n",
        "Note: Only the head of the SFrame is printed.\n",
        "You can use print_rows(num_rows=m, num_columns=n) to print more rows and columns."
       ]
      }
     ],
     "prompt_number": 11
    },
    {
     "cell_type": "heading",
     "level": 2,
     "metadata": {},
     "source": [
      "Compute the total degree of each vertex"
     ]
    },
    {
     "cell_type": "markdown",
     "metadata": {},
     "source": [
      "In the SGraph demo, we used [triple apply](http://graphlab.com/products/create/docs/generated/graphlab.SGraph.triple_apply.html#graphlab.SGraph.triple_apply) to compute the in-degree for each node, which, in the context of our World Cup example, is the number of wins (plus ties for the group stage). Now extend this and use triple apply to compute the total degree of each vertex, which is the total number of games played (with ties counted twice for group stage games). For more on vertex degree, check out the [Wikipedia article](http://en.wikipedia.org/wiki/Degree_%28graph_theory%29).\n",
      "\n",
      "- <span style=\"color:red\">Define the function that counts the in-degree for each source-edge-destination triple.</span>\n",
      "- <span style=\"color:red\">Create a new vertex field with in-degree set to 0 for each vertex.</span>\n",
      "- <span style=\"color:red\">Use the triple apply function to compute in-degree for all nodes. Which team(s) did the best in the group stage?</span>"
     ]
    },
    {
     "cell_type": "markdown",
     "metadata": {},
     "source": [
      "For in-degree in the demo, we only incremented the answer on the source node. Now we have to increment the answer for both source and destination nodes."
     ]
    },
    {
     "cell_type": "code",
     "collapsed": false,
     "input": [
      "def increment_degree(src, edge, dst):\n",
      "    src['degree'] += 1\n",
      "    dst['degree'] += 1\n",
      "    return (src, edge, dst)"
     ],
     "language": "python",
     "metadata": {},
     "outputs": [],
     "prompt_number": 12
    },
    {
     "cell_type": "markdown",
     "metadata": {},
     "source": [
      "Add the 'degree' field to the vertex attributes. Note that adding vertices with the same id's to the graph does not cause duplicate entries."
     ]
    },
    {
     "cell_type": "code",
     "collapsed": false,
     "input": [
      "sf_vert['degree'] = 0\n",
      "sg = sg.add_vertices(sf_vert)\n",
      "\n",
      "sg.vertices"
     ],
     "language": "python",
     "metadata": {},
     "outputs": [
      {
       "html": [
        "<div style=\"max-height:1000px;max-width:1500px;overflow:auto;\"><table frame=\"box\" rules=\"cols\">\n",
        "    <tr>\n",
        "        <th style=\"padding-left: 1em; padding-right: 1em; text-align: center\">__id</th>\n",
        "        <th style=\"padding-left: 1em; padding-right: 1em; text-align: center\">group</th>\n",
        "        <th style=\"padding-left: 1em; padding-right: 1em; text-align: center\">degree</th>\n",
        "    </tr>\n",
        "    <tr>\n",
        "        <td style=\"padding-left: 1em; padding-right: 1em; text-align: center; vertical-align: top\">ghana</td>\n",
        "        <td style=\"padding-left: 1em; padding-right: 1em; text-align: center; vertical-align: top\">G</td>\n",
        "        <td style=\"padding-left: 1em; padding-right: 1em; text-align: center; vertical-align: top\">0</td>\n",
        "    </tr>\n",
        "    <tr>\n",
        "        <td style=\"padding-left: 1em; padding-right: 1em; text-align: center; vertical-align: top\">costa rica</td>\n",
        "        <td style=\"padding-left: 1em; padding-right: 1em; text-align: center; vertical-align: top\">D</td>\n",
        "        <td style=\"padding-left: 1em; padding-right: 1em; text-align: center; vertical-align: top\">0</td>\n",
        "    </tr>\n",
        "    <tr>\n",
        "        <td style=\"padding-left: 1em; padding-right: 1em; text-align: center; vertical-align: top\">portugal</td>\n",
        "        <td style=\"padding-left: 1em; padding-right: 1em; text-align: center; vertical-align: top\">G</td>\n",
        "        <td style=\"padding-left: 1em; padding-right: 1em; text-align: center; vertical-align: top\">0</td>\n",
        "    </tr>\n",
        "    <tr>\n",
        "        <td style=\"padding-left: 1em; padding-right: 1em; text-align: center; vertical-align: top\">usa</td>\n",
        "        <td style=\"padding-left: 1em; padding-right: 1em; text-align: center; vertical-align: top\">G</td>\n",
        "        <td style=\"padding-left: 1em; padding-right: 1em; text-align: center; vertical-align: top\">0</td>\n",
        "    </tr>\n",
        "    <tr>\n",
        "        <td style=\"padding-left: 1em; padding-right: 1em; text-align: center; vertical-align: top\">england</td>\n",
        "        <td style=\"padding-left: 1em; padding-right: 1em; text-align: center; vertical-align: top\">D</td>\n",
        "        <td style=\"padding-left: 1em; padding-right: 1em; text-align: center; vertical-align: top\">0</td>\n",
        "    </tr>\n",
        "    <tr>\n",
        "        <td style=\"padding-left: 1em; padding-right: 1em; text-align: center; vertical-align: top\">germany</td>\n",
        "        <td style=\"padding-left: 1em; padding-right: 1em; text-align: center; vertical-align: top\">G</td>\n",
        "        <td style=\"padding-left: 1em; padding-right: 1em; text-align: center; vertical-align: top\">0</td>\n",
        "    </tr>\n",
        "    <tr>\n",
        "        <td style=\"padding-left: 1em; padding-right: 1em; text-align: center; vertical-align: top\">italy</td>\n",
        "        <td style=\"padding-left: 1em; padding-right: 1em; text-align: center; vertical-align: top\">D</td>\n",
        "        <td style=\"padding-left: 1em; padding-right: 1em; text-align: center; vertical-align: top\">0</td>\n",
        "    </tr>\n",
        "    <tr>\n",
        "        <td style=\"padding-left: 1em; padding-right: 1em; text-align: center; vertical-align: top\">uruguay</td>\n",
        "        <td style=\"padding-left: 1em; padding-right: 1em; text-align: center; vertical-align: top\">D</td>\n",
        "        <td style=\"padding-left: 1em; padding-right: 1em; text-align: center; vertical-align: top\">0</td>\n",
        "    </tr>\n",
        "</table>\n",
        "[8 rows x 3 columns]<br/>\n",
        "</div>"
       ],
       "metadata": {},
       "output_type": "pyout",
       "prompt_number": 13,
       "text": [
        "Columns:\n",
        "\t__id\tstr\n",
        "\tgroup\tstr\n",
        "\tdegree\tint\n",
        "\n",
        "Rows: 8\n",
        "\n",
        "Data:\n",
        "+------------+-------+--------+\n",
        "|    __id    | group | degree |\n",
        "+------------+-------+--------+\n",
        "|   ghana    |   G   |   0    |\n",
        "| costa rica |   D   |   0    |\n",
        "|  portugal  |   G   |   0    |\n",
        "|    usa     |   G   |   0    |\n",
        "|  england   |   D   |   0    |\n",
        "|  germany   |   G   |   0    |\n",
        "|   italy    |   D   |   0    |\n",
        "|  uruguay   |   D   |   0    |\n",
        "+------------+-------+--------+\n",
        "[8 rows x 3 columns]"
       ]
      }
     ],
     "prompt_number": 13
    },
    {
     "cell_type": "markdown",
     "metadata": {},
     "source": [
      "Now use [triple apply](http://graphlab.com/products/create/docs/generated/graphlab.SGraph.triple_apply.html#graphlab.SGraph.triple_apply) to compute the degree of each vertex. "
     ]
    },
    {
     "cell_type": "code",
     "collapsed": false,
     "input": [
      "sg = sg.triple_apply(increment_degree, mutated_fields=['degree'])\n",
      "sg.vertices.sort('degree', ascending=False)"
     ],
     "language": "python",
     "metadata": {},
     "outputs": [
      {
       "html": [
        "<div style=\"max-height:1000px;max-width:1500px;overflow:auto;\"><table frame=\"box\" rules=\"cols\">\n",
        "    <tr>\n",
        "        <th style=\"padding-left: 1em; padding-right: 1em; text-align: center\">__id</th>\n",
        "        <th style=\"padding-left: 1em; padding-right: 1em; text-align: center\">degree</th>\n",
        "        <th style=\"padding-left: 1em; padding-right: 1em; text-align: center\">group</th>\n",
        "    </tr>\n",
        "    <tr>\n",
        "        <td style=\"padding-left: 1em; padding-right: 1em; text-align: center; vertical-align: top\">ghana</td>\n",
        "        <td style=\"padding-left: 1em; padding-right: 1em; text-align: center; vertical-align: top\">4</td>\n",
        "        <td style=\"padding-left: 1em; padding-right: 1em; text-align: center; vertical-align: top\">G</td>\n",
        "    </tr>\n",
        "    <tr>\n",
        "        <td style=\"padding-left: 1em; padding-right: 1em; text-align: center; vertical-align: top\">costa rica</td>\n",
        "        <td style=\"padding-left: 1em; padding-right: 1em; text-align: center; vertical-align: top\">4</td>\n",
        "        <td style=\"padding-left: 1em; padding-right: 1em; text-align: center; vertical-align: top\">D</td>\n",
        "    </tr>\n",
        "    <tr>\n",
        "        <td style=\"padding-left: 1em; padding-right: 1em; text-align: center; vertical-align: top\">portugal</td>\n",
        "        <td style=\"padding-left: 1em; padding-right: 1em; text-align: center; vertical-align: top\">4</td>\n",
        "        <td style=\"padding-left: 1em; padding-right: 1em; text-align: center; vertical-align: top\">G</td>\n",
        "    </tr>\n",
        "    <tr>\n",
        "        <td style=\"padding-left: 1em; padding-right: 1em; text-align: center; vertical-align: top\">usa</td>\n",
        "        <td style=\"padding-left: 1em; padding-right: 1em; text-align: center; vertical-align: top\">4</td>\n",
        "        <td style=\"padding-left: 1em; padding-right: 1em; text-align: center; vertical-align: top\">G</td>\n",
        "    </tr>\n",
        "    <tr>\n",
        "        <td style=\"padding-left: 1em; padding-right: 1em; text-align: center; vertical-align: top\">england</td>\n",
        "        <td style=\"padding-left: 1em; padding-right: 1em; text-align: center; vertical-align: top\">4</td>\n",
        "        <td style=\"padding-left: 1em; padding-right: 1em; text-align: center; vertical-align: top\">D</td>\n",
        "    </tr>\n",
        "    <tr>\n",
        "        <td style=\"padding-left: 1em; padding-right: 1em; text-align: center; vertical-align: top\">germany</td>\n",
        "        <td style=\"padding-left: 1em; padding-right: 1em; text-align: center; vertical-align: top\">4</td>\n",
        "        <td style=\"padding-left: 1em; padding-right: 1em; text-align: center; vertical-align: top\">G</td>\n",
        "    </tr>\n",
        "    <tr>\n",
        "        <td style=\"padding-left: 1em; padding-right: 1em; text-align: center; vertical-align: top\">italy</td>\n",
        "        <td style=\"padding-left: 1em; padding-right: 1em; text-align: center; vertical-align: top\">3</td>\n",
        "        <td style=\"padding-left: 1em; padding-right: 1em; text-align: center; vertical-align: top\">D</td>\n",
        "    </tr>\n",
        "    <tr>\n",
        "        <td style=\"padding-left: 1em; padding-right: 1em; text-align: center; vertical-align: top\">uruguay</td>\n",
        "        <td style=\"padding-left: 1em; padding-right: 1em; text-align: center; vertical-align: top\">3</td>\n",
        "        <td style=\"padding-left: 1em; padding-right: 1em; text-align: center; vertical-align: top\">D</td>\n",
        "    </tr>\n",
        "</table>\n",
        "[8 rows x 3 columns]<br/>\n",
        "</div>"
       ],
       "metadata": {},
       "output_type": "pyout",
       "prompt_number": 14,
       "text": [
        "Columns:\n",
        "\t__id\tstr\n",
        "\tdegree\tint\n",
        "\tgroup\tstr\n",
        "\n",
        "Rows: 8\n",
        "\n",
        "Data:\n",
        "+------------+--------+-------+\n",
        "|    __id    | degree | group |\n",
        "+------------+--------+-------+\n",
        "|   ghana    |   4    |   G   |\n",
        "| costa rica |   4    |   D   |\n",
        "|  portugal  |   4    |   G   |\n",
        "|    usa     |   4    |   G   |\n",
        "|  england   |   4    |   D   |\n",
        "|  germany   |   4    |   G   |\n",
        "|   italy    |   3    |   D   |\n",
        "|  uruguay   |   3    |   D   |\n",
        "+------------+--------+-------+\n",
        "[8 rows x 3 columns]"
       ]
      }
     ],
     "prompt_number": 14
    },
    {
     "cell_type": "markdown",
     "metadata": {},
     "source": [
      "In case the answer looks weird, don't forget that we counted tie games twice."
     ]
    },
    {
     "cell_type": "heading",
     "level": 2,
     "metadata": {},
     "source": [
      "Connected Components"
     ]
    },
    {
     "cell_type": "markdown",
     "metadata": {},
     "source": [
      "A [connected component](http://en.wikipedia.org/wiki/Connected_component_%28graph_theory%29) of a graph is a subgraph where every pair of nodes is connected by *some* path through the component. For two nodes in *different* connected components there is no path between them."
     ]
    },
    {
     "cell_type": "markdown",
     "metadata": {},
     "source": [
      "- <span style=\"color:red\">Use the [connected components toolkit](http://graphlab.com/products/create/docs/generated/graphlab.connected_components.create.html#graphlab.connected_components.create) for the group stage world cup results. How many are there?</span>"
     ]
    },
    {
     "cell_type": "code",
     "collapsed": false,
     "input": [
      "cc = gl.connected_components.create(sg)\n",
      "cc.summary()"
     ],
     "language": "python",
     "metadata": {},
     "outputs": [
      {
       "html": [
        "<pre>PROGRESS: Num vertices updated: 6</pre>"
       ],
       "metadata": {},
       "output_type": "display_data",
       "text": [
        "PROGRESS: Num vertices updated: 6"
       ]
      },
      {
       "html": [
        "<pre>PROGRESS: Num vertices updated: 0</pre>"
       ],
       "metadata": {},
       "output_type": "display_data",
       "text": [
        "PROGRESS: Num vertices updated: 0"
       ]
      },
      {
       "output_type": "stream",
       "stream": "stdout",
       "text": [
        "ConnectedComponentsModel\n",
        "Graph:\n",
        "+--------------+----+\n",
        "| num_edges    | 15 |\n",
        "| num_vertices | 8  |\n",
        "+--------------+----+\n",
        "Result:\n",
        "+----------------+--------------------------------------------------------------+\n",
        "| graph          | SGraph. See m['graph']                                       |\n",
        "| component_size | SFrame with each component's size. See m['component_size']   |\n",
        "| componentid    | SFrame with each vertex's component id. See m['componentid'] |\n",
        "+----------------+--------------------------------------------------------------+\n",
        "Metric:\n",
        "+---------+---------+\n",
        "| runtime | 0.06234 |\n",
        "+---------+---------+\n",
        "Queriable Fields\n",
        "+----------------+-----------------------------------------------------+\n",
        "| Field          | Description                                         |\n",
        "+----------------+-----------------------------------------------------+\n",
        "| graph          | A new SGraph with the color id as a vertex property |\n",
        "| runtime        | Total runtime of the toolkit                        |\n",
        "| component_size | An SFrame with the size of each component           |\n",
        "| componentid    | An SFrame with each vertex's component id           |\n",
        "+----------------+-----------------------------------------------------+\n"
       ]
      }
     ],
     "prompt_number": 15
    },
    {
     "cell_type": "markdown",
     "metadata": {},
     "source": [
      "Explore the model via [list_fields](http://graphlab.com/products/create/docs/generated/graphlab.connected_components.ConnectedComponentsModel.list_fields.html#graphlab.connected_components.ConnectedComponentsModel.list_fields)."
     ]
    },
    {
     "cell_type": "code",
     "collapsed": false,
     "input": [
      "cc.list_fields()"
     ],
     "language": "python",
     "metadata": {},
     "outputs": [
      {
       "metadata": {},
       "output_type": "pyout",
       "prompt_number": 16,
       "text": [
        "['component_size', 'componentid', 'graph', 'runtime']"
       ]
      }
     ],
     "prompt_number": 16
    },
    {
     "cell_type": "markdown",
     "metadata": {},
     "source": [
      "The result is returned in both the 'componentid' and 'graph' objects. The 'graph' object is an SGraph whose vertices have an attribute with the answer. Check out the value of both fields.  You can use model.get(field_name), or model[field_name], where field_name is a string."
     ]
    },
    {
     "cell_type": "code",
     "collapsed": false,
     "input": [
      "cc_out = cc['componentid']\n",
      "cc_out"
     ],
     "language": "python",
     "metadata": {},
     "outputs": [
      {
       "html": [
        "<div style=\"max-height:1000px;max-width:1500px;overflow:auto;\"><table frame=\"box\" rules=\"cols\">\n",
        "    <tr>\n",
        "        <th style=\"padding-left: 1em; padding-right: 1em; text-align: center\">__id</th>\n",
        "        <th style=\"padding-left: 1em; padding-right: 1em; text-align: center\">componentid</th>\n",
        "    </tr>\n",
        "    <tr>\n",
        "        <td style=\"padding-left: 1em; padding-right: 1em; text-align: center; vertical-align: top\">ghana</td>\n",
        "        <td style=\"padding-left: 1em; padding-right: 1em; text-align: center; vertical-align: top\">0</td>\n",
        "    </tr>\n",
        "    <tr>\n",
        "        <td style=\"padding-left: 1em; padding-right: 1em; text-align: center; vertical-align: top\">costa rica</td>\n",
        "        <td style=\"padding-left: 1em; padding-right: 1em; text-align: center; vertical-align: top\">1</td>\n",
        "    </tr>\n",
        "    <tr>\n",
        "        <td style=\"padding-left: 1em; padding-right: 1em; text-align: center; vertical-align: top\">portugal</td>\n",
        "        <td style=\"padding-left: 1em; padding-right: 1em; text-align: center; vertical-align: top\">0</td>\n",
        "    </tr>\n",
        "    <tr>\n",
        "        <td style=\"padding-left: 1em; padding-right: 1em; text-align: center; vertical-align: top\">usa</td>\n",
        "        <td style=\"padding-left: 1em; padding-right: 1em; text-align: center; vertical-align: top\">0</td>\n",
        "    </tr>\n",
        "    <tr>\n",
        "        <td style=\"padding-left: 1em; padding-right: 1em; text-align: center; vertical-align: top\">england</td>\n",
        "        <td style=\"padding-left: 1em; padding-right: 1em; text-align: center; vertical-align: top\">1</td>\n",
        "    </tr>\n",
        "    <tr>\n",
        "        <td style=\"padding-left: 1em; padding-right: 1em; text-align: center; vertical-align: top\">germany</td>\n",
        "        <td style=\"padding-left: 1em; padding-right: 1em; text-align: center; vertical-align: top\">0</td>\n",
        "    </tr>\n",
        "    <tr>\n",
        "        <td style=\"padding-left: 1em; padding-right: 1em; text-align: center; vertical-align: top\">italy</td>\n",
        "        <td style=\"padding-left: 1em; padding-right: 1em; text-align: center; vertical-align: top\">1</td>\n",
        "    </tr>\n",
        "    <tr>\n",
        "        <td style=\"padding-left: 1em; padding-right: 1em; text-align: center; vertical-align: top\">uruguay</td>\n",
        "        <td style=\"padding-left: 1em; padding-right: 1em; text-align: center; vertical-align: top\">1</td>\n",
        "    </tr>\n",
        "</table>\n",
        "[8 rows x 2 columns]<br/>\n",
        "</div>"
       ],
       "metadata": {},
       "output_type": "pyout",
       "prompt_number": 17,
       "text": [
        "Columns:\n",
        "\t__id\tstr\n",
        "\tcomponentid\tint\n",
        "\n",
        "Rows: 8\n",
        "\n",
        "Data:\n",
        "+------------+-------------+\n",
        "|    __id    | componentid |\n",
        "+------------+-------------+\n",
        "|   ghana    |      0      |\n",
        "| costa rica |      1      |\n",
        "|  portugal  |      0      |\n",
        "|    usa     |      0      |\n",
        "|  england   |      1      |\n",
        "|  germany   |      0      |\n",
        "|   italy    |      1      |\n",
        "|  uruguay   |      1      |\n",
        "+------------+-------------+\n",
        "[8 rows x 2 columns]"
       ]
      }
     ],
     "prompt_number": 17
    },
    {
     "cell_type": "code",
     "collapsed": false,
     "input": [
      "cc['graph'].vertices"
     ],
     "language": "python",
     "metadata": {},
     "outputs": [
      {
       "html": [
        "<div style=\"max-height:1000px;max-width:1500px;overflow:auto;\"><table frame=\"box\" rules=\"cols\">\n",
        "    <tr>\n",
        "        <th style=\"padding-left: 1em; padding-right: 1em; text-align: center\">__id</th>\n",
        "        <th style=\"padding-left: 1em; padding-right: 1em; text-align: center\">componentid</th>\n",
        "    </tr>\n",
        "    <tr>\n",
        "        <td style=\"padding-left: 1em; padding-right: 1em; text-align: center; vertical-align: top\">ghana</td>\n",
        "        <td style=\"padding-left: 1em; padding-right: 1em; text-align: center; vertical-align: top\">0</td>\n",
        "    </tr>\n",
        "    <tr>\n",
        "        <td style=\"padding-left: 1em; padding-right: 1em; text-align: center; vertical-align: top\">costa rica</td>\n",
        "        <td style=\"padding-left: 1em; padding-right: 1em; text-align: center; vertical-align: top\">1</td>\n",
        "    </tr>\n",
        "    <tr>\n",
        "        <td style=\"padding-left: 1em; padding-right: 1em; text-align: center; vertical-align: top\">portugal</td>\n",
        "        <td style=\"padding-left: 1em; padding-right: 1em; text-align: center; vertical-align: top\">0</td>\n",
        "    </tr>\n",
        "    <tr>\n",
        "        <td style=\"padding-left: 1em; padding-right: 1em; text-align: center; vertical-align: top\">usa</td>\n",
        "        <td style=\"padding-left: 1em; padding-right: 1em; text-align: center; vertical-align: top\">0</td>\n",
        "    </tr>\n",
        "    <tr>\n",
        "        <td style=\"padding-left: 1em; padding-right: 1em; text-align: center; vertical-align: top\">england</td>\n",
        "        <td style=\"padding-left: 1em; padding-right: 1em; text-align: center; vertical-align: top\">1</td>\n",
        "    </tr>\n",
        "    <tr>\n",
        "        <td style=\"padding-left: 1em; padding-right: 1em; text-align: center; vertical-align: top\">germany</td>\n",
        "        <td style=\"padding-left: 1em; padding-right: 1em; text-align: center; vertical-align: top\">0</td>\n",
        "    </tr>\n",
        "    <tr>\n",
        "        <td style=\"padding-left: 1em; padding-right: 1em; text-align: center; vertical-align: top\">italy</td>\n",
        "        <td style=\"padding-left: 1em; padding-right: 1em; text-align: center; vertical-align: top\">1</td>\n",
        "    </tr>\n",
        "    <tr>\n",
        "        <td style=\"padding-left: 1em; padding-right: 1em; text-align: center; vertical-align: top\">uruguay</td>\n",
        "        <td style=\"padding-left: 1em; padding-right: 1em; text-align: center; vertical-align: top\">1</td>\n",
        "    </tr>\n",
        "</table>\n",
        "[8 rows x 2 columns]<br/>\n",
        "</div>"
       ],
       "metadata": {},
       "output_type": "pyout",
       "prompt_number": 18,
       "text": [
        "Columns:\n",
        "\t__id\tstr\n",
        "\tcomponentid\tint\n",
        "\n",
        "Rows: 8\n",
        "\n",
        "Data:\n",
        "+------------+-------------+\n",
        "|    __id    | componentid |\n",
        "+------------+-------------+\n",
        "|   ghana    |      0      |\n",
        "| costa rica |      1      |\n",
        "|  portugal  |      0      |\n",
        "|    usa     |      0      |\n",
        "|  england   |      1      |\n",
        "|  germany   |      0      |\n",
        "|   italy    |      1      |\n",
        "|  uruguay   |      1      |\n",
        "+------------+-------------+\n",
        "[8 rows x 2 columns]"
       ]
      }
     ],
     "prompt_number": 18
    },
    {
     "cell_type": "heading",
     "level": 1,
     "metadata": {},
     "source": [
      "II. Recommendation systems"
     ]
    },
    {
     "cell_type": "markdown",
     "metadata": {},
     "source": [
      "In this section we will make a model that can be used to recommend new tags to users.\n",
      "\n",
      "We will use the StackOverflow dataset that you played with during earlier exercises. Note that [this data is shared](http://blog.stackexchange.com/category/cc-wiki-dump/) courtesy of StackExchange and is under the Creative Commons Attribution-ShareAlike 3.0 Unported License. This particular version of the data set was used in a recent [Kaggle competition](https://www.kaggle.com/c/predict-closed-questions-on-stack-overflow). \n",
      "\n",
      "To save you some time, we pulled out only the tags for each post and created an SFrame that contains only the post owners, the tags, and the number of times that the tag was used by that user.  For reference, here is the code to do that."
     ]
    },
    {
     "cell_type": "code",
     "collapsed": true,
     "input": [
      "sf = gl.SFrame('./data/stack_overflow_sframe')\n",
      "\n",
      "# Create a new column called Tags where each element is a list of all the tags used for that question.\n",
      "sf = sf.pack_columns(column_prefix='Tag', new_column_name='Tags')\n",
      "\n",
      "# Make your SFrame only contain the `OwnerUserId` column and the `Tags` column.\n",
      "sf = sf[['OwnerUserId', 'Tags']]\n",
      "\n",
      "# Define a function to modify the Tags column to not have any empty strings in the list.\n",
      "def remove_empty(tags):\n",
      "    return [tag for tag in tags if tag != '']\n",
      "sf['Tags'] = sf['Tags'].apply(remove_empty)\n",
      "\n",
      "# Create a new SFrame called `user_tag` that has a row for every (user, tag) pair. \n",
      "user_tag = sf.stack(column_name='Tags', new_column_name='Tag')\n",
      "\n",
      "# Create a new SFrame with three columns: `OwnerUserId`, `Tag`, and `Count`, \n",
      "# where `Count` contains the number of times the given `Tag` was used by that particular `OwnerUserId`.\n",
      "user_tag_count = user_tag.groupby(['OwnerUserId', 'Tag'], graphlab.aggregate.COUNT)"
     ],
     "language": "python",
     "metadata": {},
     "outputs": [],
     "prompt_number": 5
    },
    {
     "cell_type": "markdown",
     "metadata": {},
     "source": [
      "Load the user_tag_count data from file."
     ]
    },
    {
     "cell_type": "code",
     "collapsed": true,
     "input": [
      "user_tag_count = gl.SFrame('./data/stack_overflow_tags')"
     ],
     "language": "python",
     "metadata": {},
     "outputs": [],
     "prompt_number": 19
    },
    {
     "cell_type": "markdown",
     "metadata": {},
     "source": [
      "Explore it using [show()](http://graphlab.com/products/create/docs/generated/graphlab.SFrame.show.html#graphlab.SFrame.show)."
     ]
    },
    {
     "cell_type": "code",
     "collapsed": false,
     "input": [
      "user_tag_count.show()"
     ],
     "language": "python",
     "metadata": {},
     "outputs": [],
     "prompt_number": 20
    },
    {
     "cell_type": "heading",
     "level": 3,
     "metadata": {},
     "source": [
      "Creating a Recommender Model"
     ]
    },
    {
     "cell_type": "markdown",
     "metadata": {},
     "source": [
      "First, create a train/test split of the `user_tag_count` data from the section above. Hint: Use [random_split_by_user](http://graphlab.com/products/create/docs/generated/graphlab.recommender.random_split_by_user.html#graphlab.recommender.random_split_by_user)."
     ]
    },
    {
     "cell_type": "code",
     "collapsed": false,
     "input": [
      "train, test = gl.recommender.util.random_split_by_user(user_tag_count, user_id='OwnerUserId', item_id='Tag')"
     ],
     "language": "python",
     "metadata": {},
     "outputs": [],
     "prompt_number": 30
    },
    {
     "cell_type": "markdown",
     "metadata": {},
     "source": [
      "Now use [graphlab.recommender.create()](http://graphlab.com/products/create/docs/generated/graphlab.recommender.create.html#graphlab.recommender.create) to create a model on the training set that can be used to recommend tags to each user."
     ]
    },
    {
     "cell_type": "code",
     "collapsed": true,
     "input": [
      "m1 = gl.recommender.create(train, user_id='OwnerUserId', item_id='Tag')"
     ],
     "language": "python",
     "metadata": {},
     "outputs": [
      {
       "html": [
        "<pre>PROGRESS: Recsys training: model = item_similarity</pre>"
       ],
       "metadata": {},
       "output_type": "display_data",
       "text": [
        "PROGRESS: Recsys training: model = item_similarity"
       ]
      },
      {
       "html": [
        "<pre>PROGRESS: Training Schema = [ (OwnerUserId:categorical) (Tag:categorical) ]</pre>"
       ],
       "metadata": {},
       "output_type": "display_data",
       "text": [
        "PROGRESS: Training Schema = [ (OwnerUserId:categorical) (Tag:categorical) ]"
       ]
      },
      {
       "html": [
        "<pre>PROGRESS: Preparing data set.</pre>"
       ],
       "metadata": {},
       "output_type": "display_data",
       "text": [
        "PROGRESS: Preparing data set."
       ]
      },
      {
       "html": [
        "<pre>PROGRESS:     Training on 6350879 training observations.</pre>"
       ],
       "metadata": {},
       "output_type": "display_data",
       "text": [
        "PROGRESS:     Training on 6350879 training observations."
       ]
      },
      {
       "html": [
        "<pre>PROGRESS:     Data loaded in: 4.2158s</pre>"
       ],
       "metadata": {},
       "output_type": "display_data",
       "text": [
        "PROGRESS:     Data loaded in: 4.2158s"
       ]
      },
      {
       "html": [
        "<pre>PROGRESS: Processing 6350879 observations:</pre>"
       ],
       "metadata": {},
       "output_type": "display_data",
       "text": [
        "PROGRESS: Processing 6350879 observations:"
       ]
      },
      {
       "html": [
        "<pre>PROGRESS:    Observations   Seconds</pre>"
       ],
       "metadata": {},
       "output_type": "display_data",
       "text": [
        "PROGRESS:    Observations   Seconds"
       ]
      },
      {
       "html": [
        "<pre>PROGRESS:         1000000   2.99721</pre>"
       ],
       "metadata": {},
       "output_type": "display_data",
       "text": [
        "PROGRESS:         1000000   2.99721"
       ]
      },
      {
       "html": [
        "<pre>PROGRESS:         2000000   7.27691</pre>"
       ],
       "metadata": {},
       "output_type": "display_data",
       "text": [
        "PROGRESS:         2000000   7.27691"
       ]
      },
      {
       "html": [
        "<pre>PROGRESS:         3000000   11.9659</pre>"
       ],
       "metadata": {},
       "output_type": "display_data",
       "text": [
        "PROGRESS:         3000000   11.9659"
       ]
      },
      {
       "html": [
        "<pre>PROGRESS:         4000000    17.936</pre>"
       ],
       "metadata": {},
       "output_type": "display_data",
       "text": [
        "PROGRESS:         4000000    17.936"
       ]
      },
      {
       "html": [
        "<pre>PROGRESS:         5000000   20.3349</pre>"
       ],
       "metadata": {},
       "output_type": "display_data",
       "text": [
        "PROGRESS:         5000000   20.3349"
       ]
      },
      {
       "html": [
        "<pre>PROGRESS:         6000000   23.1261</pre>"
       ],
       "metadata": {},
       "output_type": "display_data",
       "text": [
        "PROGRESS:         6000000   23.1261"
       ]
      },
      {
       "html": [
        "<pre>PROGRESS:         6350879   27.5528</pre>"
       ],
       "metadata": {},
       "output_type": "display_data",
       "text": [
        "PROGRESS:         6350879   27.5528"
       ]
      },
      {
       "html": [
        "<pre>PROGRESS: Computing similar items for 44144 items using 8 partitions:</pre>"
       ],
       "metadata": {},
       "output_type": "display_data",
       "text": [
        "PROGRESS: Computing similar items for 44144 items using 8 partitions:"
       ]
      },
      {
       "html": [
        "<pre>PROGRESS:  Partition     Items   Seconds</pre>"
       ],
       "metadata": {},
       "output_type": "display_data",
       "text": [
        "PROGRESS:  Partition     Items   Seconds"
       ]
      },
      {
       "html": [
        "<pre>PROGRESS:          0      5521   27.8862</pre>"
       ],
       "metadata": {},
       "output_type": "display_data",
       "text": [
        "PROGRESS:          0      5521   27.8862"
       ]
      },
      {
       "html": [
        "<pre>PROGRESS:          1     11034   28.1935</pre>"
       ],
       "metadata": {},
       "output_type": "display_data",
       "text": [
        "PROGRESS:          1     11034   28.1935"
       ]
      },
      {
       "html": [
        "<pre>PROGRESS:          2     16553   28.5363</pre>"
       ],
       "metadata": {},
       "output_type": "display_data",
       "text": [
        "PROGRESS:          2     16553   28.5363"
       ]
      },
      {
       "html": [
        "<pre>PROGRESS:          3     22070   28.9962</pre>"
       ],
       "metadata": {},
       "output_type": "display_data",
       "text": [
        "PROGRESS:          3     22070   28.9962"
       ]
      },
      {
       "html": [
        "<pre>PROGRESS:          4     27587   29.3931</pre>"
       ],
       "metadata": {},
       "output_type": "display_data",
       "text": [
        "PROGRESS:          4     27587   29.3931"
       ]
      },
      {
       "html": [
        "<pre>PROGRESS:          5     33106   29.8083</pre>"
       ],
       "metadata": {},
       "output_type": "display_data",
       "text": [
        "PROGRESS:          5     33106   29.8083"
       ]
      },
      {
       "html": [
        "<pre>PROGRESS:          6     38627   30.2075</pre>"
       ],
       "metadata": {},
       "output_type": "display_data",
       "text": [
        "PROGRESS:          6     38627   30.2075"
       ]
      },
      {
       "html": [
        "<pre>PROGRESS:          7     44144    30.607</pre>"
       ],
       "metadata": {},
       "output_type": "display_data",
       "text": [
        "PROGRESS:          7     44144    30.607"
       ]
      },
      {
       "html": [
        "<pre>PROGRESS: Finished getting similar items for 44144 items in 30.6084s.</pre>"
       ],
       "metadata": {},
       "output_type": "display_data",
       "text": [
        "PROGRESS: Finished getting similar items for 44144 items in 30.6084s."
       ]
      },
      {
       "html": [
        "<pre>PROGRESS: Finished training in 36.6676s</pre>"
       ],
       "metadata": {},
       "output_type": "display_data",
       "text": [
        "PROGRESS: Finished training in 36.6676s"
       ]
      }
     ],
     "prompt_number": 32
    },
    {
     "cell_type": "markdown",
     "metadata": {},
     "source": [
      "Print a summary of the model by simply entering the name of the object."
     ]
    },
    {
     "cell_type": "code",
     "collapsed": false,
     "input": [
      "m1"
     ],
     "language": "python",
     "metadata": {},
     "outputs": [
      {
       "metadata": {},
       "output_type": "pyout",
       "prompt_number": 33,
       "text": [
        "ItemSimilarityModel\n",
        "\n",
        "Schema\n",
        "  user id:       OwnerUserId\n",
        "  item id:       Tag\n",
        "\n",
        "Statistics\n",
        "  Training set:         6350879 obs      656074 users       44144 items\n",
        "\n",
        "Training summary\n",
        "  training time:       40.883530s\n",
        "\n",
        "Settings\n",
        "  only top k:            100                           \n",
        "  similarity type:       jaccard                       \n",
        "  threshold:             0.001                         \n",
        "  training method:       auto                          "
       ]
      }
     ],
     "prompt_number": 33
    },
    {
     "cell_type": "markdown",
     "metadata": {},
     "source": [
      "Get all unique users from the first 10000 observations in the training set and save them as a variable called `users`."
     ]
    },
    {
     "cell_type": "code",
     "collapsed": false,
     "input": [
      "users = train.head(10000)['OwnerUserId'].unique()"
     ],
     "language": "python",
     "metadata": {},
     "outputs": [],
     "prompt_number": 34
    },
    {
     "cell_type": "markdown",
     "metadata": {},
     "source": [
      "Get 20 recommendations for each user in your list of users. Save these as a new SFrame called `recs`."
     ]
    },
    {
     "cell_type": "code",
     "collapsed": true,
     "input": [
      "recs = m1.recommend(users, k=20)"
     ],
     "language": "python",
     "metadata": {},
     "outputs": [
      {
       "html": [
        "<pre>PROGRESS: recommendations finished on 1000/9635 users. users per second: 1150.2</pre>"
       ],
       "metadata": {},
       "output_type": "display_data",
       "text": [
        "PROGRESS: recommendations finished on 1000/9635 users. users per second: 1150.2"
       ]
      },
      {
       "html": [
        "<pre>PROGRESS: recommendations finished on 2000/9635 users. users per second: 1184.7</pre>"
       ],
       "metadata": {},
       "output_type": "display_data",
       "text": [
        "PROGRESS: recommendations finished on 2000/9635 users. users per second: 1184.7"
       ]
      },
      {
       "html": [
        "<pre>PROGRESS: recommendations finished on 3000/9635 users. users per second: 1181.15</pre>"
       ],
       "metadata": {},
       "output_type": "display_data",
       "text": [
        "PROGRESS: recommendations finished on 3000/9635 users. users per second: 1181.15"
       ]
      },
      {
       "html": [
        "<pre>PROGRESS: recommendations finished on 4000/9635 users. users per second: 1200.92</pre>"
       ],
       "metadata": {},
       "output_type": "display_data",
       "text": [
        "PROGRESS: recommendations finished on 4000/9635 users. users per second: 1200.92"
       ]
      },
      {
       "html": [
        "<pre>PROGRESS: recommendations finished on 5000/9635 users. users per second: 1210.9</pre>"
       ],
       "metadata": {},
       "output_type": "display_data",
       "text": [
        "PROGRESS: recommendations finished on 5000/9635 users. users per second: 1210.9"
       ]
      },
      {
       "html": [
        "<pre>PROGRESS: recommendations finished on 6000/9635 users. users per second: 1216.3</pre>"
       ],
       "metadata": {},
       "output_type": "display_data",
       "text": [
        "PROGRESS: recommendations finished on 6000/9635 users. users per second: 1216.3"
       ]
      },
      {
       "html": [
        "<pre>PROGRESS: recommendations finished on 7000/9635 users. users per second: 1221.89</pre>"
       ],
       "metadata": {},
       "output_type": "display_data",
       "text": [
        "PROGRESS: recommendations finished on 7000/9635 users. users per second: 1221.89"
       ]
      },
      {
       "html": [
        "<pre>PROGRESS: recommendations finished on 8000/9635 users. users per second: 1227.56</pre>"
       ],
       "metadata": {},
       "output_type": "display_data",
       "text": [
        "PROGRESS: recommendations finished on 8000/9635 users. users per second: 1227.56"
       ]
      },
      {
       "html": [
        "<pre>PROGRESS: recommendations finished on 9000/9635 users. users per second: 1225.98</pre>"
       ],
       "metadata": {},
       "output_type": "display_data",
       "text": [
        "PROGRESS: recommendations finished on 9000/9635 users. users per second: 1225.98"
       ]
      }
     ],
     "prompt_number": 35
    },
    {
     "cell_type": "markdown",
     "metadata": {},
     "source": [
      "When people use recommendation systems for online commerce, it's often useful to be able to recommending products from a single category of items, e.g. recommending shoes to somebody who typically buys shirts. \n",
      "\n",
      "To illustrate how this can be done with GraphLab Create, suppose we have a Javascript user who is trying to learn Python. Below we will take just the Javascript users and see what Python tags to recommend them. "
     ]
    },
    {
     "cell_type": "markdown",
     "metadata": {},
     "source": [
      "Create a variable called `javascript_users` that contains all unique users who have used the `javascript` tag in the training data. **Hint**: use SFrame logical filters and [SFrame.unique()](http://graphlab.com/products/create/docs/generated/graphlab.SFrame.unique.html#graphlab.SFrame.unique)."
     ]
    },
    {
     "cell_type": "code",
     "collapsed": false,
     "input": [
      "javascript_users = train['OwnerUserId'][train['Tag'] == 'javascript'].unique()"
     ],
     "language": "python",
     "metadata": {},
     "outputs": [],
     "prompt_number": 36
    },
    {
     "cell_type": "markdown",
     "metadata": {},
     "source": [
      "Use the model you created above to find the 20 most similar items to the tag \"python\". Create a variable called `python_items` containing just these similar items. **Hint**: use [ItemSimilarityModel.get_similar_items()](http://graphlab.com/products/create/docs/generated/graphlab.recommender.ItemSimilarityModel.get_similar_items.html#graphlab.recommender.ItemSimilarityModel.get_similar_items)."
     ]
    },
    {
     "cell_type": "code",
     "collapsed": false,
     "input": [
      "python_items = m1.get_similar_items(['python'], k=20)\n",
      "python_items = python_items['similar_item']"
     ],
     "language": "python",
     "metadata": {},
     "outputs": [
      {
       "html": [
        "<pre>PROGRESS: Getting similar items completed in 0.00269</pre>"
       ],
       "metadata": {},
       "output_type": "display_data",
       "text": [
        "PROGRESS: Getting similar items completed in 0.00269"
       ]
      }
     ],
     "prompt_number": 37
    },
    {
     "cell_type": "markdown",
     "metadata": {},
     "source": [
      "For each user in `javascript_users`, make 5 recommendations among the items in `python_items` using [model.recommend()](http://graphlab.com/products/create/docs/generated/graphlab.recommender.ItemSimilarityModel.recommend.html#graphlab.recommender.ItemSimilarityModel.recommend)."
     ]
    },
    {
     "cell_type": "code",
     "collapsed": false,
     "input": [
      "python_recs = m1.recommend(users=javascript_users, items=python_items, k=5)"
     ],
     "language": "python",
     "metadata": {},
     "outputs": [
      {
       "html": [
        "<pre>PROGRESS: recommendations finished on 1000/92690 users. users per second: 1899.31</pre>"
       ],
       "metadata": {},
       "output_type": "display_data",
       "text": [
        "PROGRESS: recommendations finished on 1000/92690 users. users per second: 1899.31"
       ]
      },
      {
       "html": [
        "<pre>PROGRESS: recommendations finished on 2000/92690 users. users per second: 1951.39</pre>"
       ],
       "metadata": {},
       "output_type": "display_data",
       "text": [
        "PROGRESS: recommendations finished on 2000/92690 users. users per second: 1951.39"
       ]
      },
      {
       "html": [
        "<pre>PROGRESS: recommendations finished on 3000/92690 users. users per second: 1971.13</pre>"
       ],
       "metadata": {},
       "output_type": "display_data",
       "text": [
        "PROGRESS: recommendations finished on 3000/92690 users. users per second: 1971.13"
       ]
      },
      {
       "html": [
        "<pre>PROGRESS: recommendations finished on 4000/92690 users. users per second: 1975.1</pre>"
       ],
       "metadata": {},
       "output_type": "display_data",
       "text": [
        "PROGRESS: recommendations finished on 4000/92690 users. users per second: 1975.1"
       ]
      },
      {
       "html": [
        "<pre>PROGRESS: recommendations finished on 5000/92690 users. users per second: 1951.03</pre>"
       ],
       "metadata": {},
       "output_type": "display_data",
       "text": [
        "PROGRESS: recommendations finished on 5000/92690 users. users per second: 1951.03"
       ]
      },
      {
       "html": [
        "<pre>PROGRESS: recommendations finished on 6000/92690 users. users per second: 1941.01</pre>"
       ],
       "metadata": {},
       "output_type": "display_data",
       "text": [
        "PROGRESS: recommendations finished on 6000/92690 users. users per second: 1941.01"
       ]
      },
      {
       "html": [
        "<pre>PROGRESS: recommendations finished on 7000/92690 users. users per second: 1941.75</pre>"
       ],
       "metadata": {},
       "output_type": "display_data",
       "text": [
        "PROGRESS: recommendations finished on 7000/92690 users. users per second: 1941.75"
       ]
      },
      {
       "html": [
        "<pre>PROGRESS: recommendations finished on 8000/92690 users. users per second: 1953.88</pre>"
       ],
       "metadata": {},
       "output_type": "display_data",
       "text": [
        "PROGRESS: recommendations finished on 8000/92690 users. users per second: 1953.88"
       ]
      },
      {
       "html": [
        "<pre>PROGRESS: recommendations finished on 9000/92690 users. users per second: 1945.25</pre>"
       ],
       "metadata": {},
       "output_type": "display_data",
       "text": [
        "PROGRESS: recommendations finished on 9000/92690 users. users per second: 1945.25"
       ]
      },
      {
       "html": [
        "<pre>PROGRESS: recommendations finished on 10000/92690 users. users per second: 1948.45</pre>"
       ],
       "metadata": {},
       "output_type": "display_data",
       "text": [
        "PROGRESS: recommendations finished on 10000/92690 users. users per second: 1948.45"
       ]
      },
      {
       "html": [
        "<pre>PROGRESS: recommendations finished on 11000/92690 users. users per second: 1954.45</pre>"
       ],
       "metadata": {},
       "output_type": "display_data",
       "text": [
        "PROGRESS: recommendations finished on 11000/92690 users. users per second: 1954.45"
       ]
      },
      {
       "html": [
        "<pre>PROGRESS: recommendations finished on 12000/92690 users. users per second: 1959.2</pre>"
       ],
       "metadata": {},
       "output_type": "display_data",
       "text": [
        "PROGRESS: recommendations finished on 12000/92690 users. users per second: 1959.2"
       ]
      },
      {
       "html": [
        "<pre>PROGRESS: recommendations finished on 13000/92690 users. users per second: 1957.78</pre>"
       ],
       "metadata": {},
       "output_type": "display_data",
       "text": [
        "PROGRESS: recommendations finished on 13000/92690 users. users per second: 1957.78"
       ]
      },
      {
       "html": [
        "<pre>PROGRESS: recommendations finished on 14000/92690 users. users per second: 1950.13</pre>"
       ],
       "metadata": {},
       "output_type": "display_data",
       "text": [
        "PROGRESS: recommendations finished on 14000/92690 users. users per second: 1950.13"
       ]
      },
      {
       "html": [
        "<pre>PROGRESS: recommendations finished on 15000/92690 users. users per second: 1947.84</pre>"
       ],
       "metadata": {},
       "output_type": "display_data",
       "text": [
        "PROGRESS: recommendations finished on 15000/92690 users. users per second: 1947.84"
       ]
      },
      {
       "html": [
        "<pre>PROGRESS: recommendations finished on 16000/92690 users. users per second: 1953.71</pre>"
       ],
       "metadata": {},
       "output_type": "display_data",
       "text": [
        "PROGRESS: recommendations finished on 16000/92690 users. users per second: 1953.71"
       ]
      },
      {
       "html": [
        "<pre>PROGRESS: recommendations finished on 17000/92690 users. users per second: 1955.77</pre>"
       ],
       "metadata": {},
       "output_type": "display_data",
       "text": [
        "PROGRESS: recommendations finished on 17000/92690 users. users per second: 1955.77"
       ]
      },
      {
       "html": [
        "<pre>PROGRESS: recommendations finished on 18000/92690 users. users per second: 1959.1</pre>"
       ],
       "metadata": {},
       "output_type": "display_data",
       "text": [
        "PROGRESS: recommendations finished on 18000/92690 users. users per second: 1959.1"
       ]
      },
      {
       "html": [
        "<pre>PROGRESS: recommendations finished on 19000/92690 users. users per second: 1959.11</pre>"
       ],
       "metadata": {},
       "output_type": "display_data",
       "text": [
        "PROGRESS: recommendations finished on 19000/92690 users. users per second: 1959.11"
       ]
      },
      {
       "html": [
        "<pre>PROGRESS: recommendations finished on 20000/92690 users. users per second: 1960.88</pre>"
       ],
       "metadata": {},
       "output_type": "display_data",
       "text": [
        "PROGRESS: recommendations finished on 20000/92690 users. users per second: 1960.88"
       ]
      },
      {
       "html": [
        "<pre>PROGRESS: recommendations finished on 21000/92690 users. users per second: 1957.9</pre>"
       ],
       "metadata": {},
       "output_type": "display_data",
       "text": [
        "PROGRESS: recommendations finished on 21000/92690 users. users per second: 1957.9"
       ]
      },
      {
       "html": [
        "<pre>PROGRESS: recommendations finished on 22000/92690 users. users per second: 1961.83</pre>"
       ],
       "metadata": {},
       "output_type": "display_data",
       "text": [
        "PROGRESS: recommendations finished on 22000/92690 users. users per second: 1961.83"
       ]
      },
      {
       "html": [
        "<pre>PROGRESS: recommendations finished on 23000/92690 users. users per second: 1960.57</pre>"
       ],
       "metadata": {},
       "output_type": "display_data",
       "text": [
        "PROGRESS: recommendations finished on 23000/92690 users. users per second: 1960.57"
       ]
      },
      {
       "html": [
        "<pre>PROGRESS: recommendations finished on 24000/92690 users. users per second: 1962.88</pre>"
       ],
       "metadata": {},
       "output_type": "display_data",
       "text": [
        "PROGRESS: recommendations finished on 24000/92690 users. users per second: 1962.88"
       ]
      },
      {
       "html": [
        "<pre>PROGRESS: recommendations finished on 25000/92690 users. users per second: 1964.28</pre>"
       ],
       "metadata": {},
       "output_type": "display_data",
       "text": [
        "PROGRESS: recommendations finished on 25000/92690 users. users per second: 1964.28"
       ]
      },
      {
       "html": [
        "<pre>PROGRESS: recommendations finished on 26000/92690 users. users per second: 1967.13</pre>"
       ],
       "metadata": {},
       "output_type": "display_data",
       "text": [
        "PROGRESS: recommendations finished on 26000/92690 users. users per second: 1967.13"
       ]
      },
      {
       "html": [
        "<pre>PROGRESS: recommendations finished on 27000/92690 users. users per second: 1965.49</pre>"
       ],
       "metadata": {},
       "output_type": "display_data",
       "text": [
        "PROGRESS: recommendations finished on 27000/92690 users. users per second: 1965.49"
       ]
      },
      {
       "html": [
        "<pre>PROGRESS: recommendations finished on 28000/92690 users. users per second: 1962.22</pre>"
       ],
       "metadata": {},
       "output_type": "display_data",
       "text": [
        "PROGRESS: recommendations finished on 28000/92690 users. users per second: 1962.22"
       ]
      },
      {
       "html": [
        "<pre>PROGRESS: recommendations finished on 29000/92690 users. users per second: 1962.33</pre>"
       ],
       "metadata": {},
       "output_type": "display_data",
       "text": [
        "PROGRESS: recommendations finished on 29000/92690 users. users per second: 1962.33"
       ]
      },
      {
       "html": [
        "<pre>PROGRESS: recommendations finished on 30000/92690 users. users per second: 1961.75</pre>"
       ],
       "metadata": {},
       "output_type": "display_data",
       "text": [
        "PROGRESS: recommendations finished on 30000/92690 users. users per second: 1961.75"
       ]
      },
      {
       "html": [
        "<pre>PROGRESS: recommendations finished on 31000/92690 users. users per second: 1961.53</pre>"
       ],
       "metadata": {},
       "output_type": "display_data",
       "text": [
        "PROGRESS: recommendations finished on 31000/92690 users. users per second: 1961.53"
       ]
      },
      {
       "html": [
        "<pre>PROGRESS: recommendations finished on 32000/92690 users. users per second: 1963.84</pre>"
       ],
       "metadata": {},
       "output_type": "display_data",
       "text": [
        "PROGRESS: recommendations finished on 32000/92690 users. users per second: 1963.84"
       ]
      },
      {
       "html": [
        "<pre>PROGRESS: recommendations finished on 33000/92690 users. users per second: 1964.1</pre>"
       ],
       "metadata": {},
       "output_type": "display_data",
       "text": [
        "PROGRESS: recommendations finished on 33000/92690 users. users per second: 1964.1"
       ]
      },
      {
       "html": [
        "<pre>PROGRESS: recommendations finished on 34000/92690 users. users per second: 1964.51</pre>"
       ],
       "metadata": {},
       "output_type": "display_data",
       "text": [
        "PROGRESS: recommendations finished on 34000/92690 users. users per second: 1964.51"
       ]
      },
      {
       "html": [
        "<pre>PROGRESS: recommendations finished on 35000/92690 users. users per second: 1965.35</pre>"
       ],
       "metadata": {},
       "output_type": "display_data",
       "text": [
        "PROGRESS: recommendations finished on 35000/92690 users. users per second: 1965.35"
       ]
      },
      {
       "html": [
        "<pre>PROGRESS: recommendations finished on 36000/92690 users. users per second: 1963.59</pre>"
       ],
       "metadata": {},
       "output_type": "display_data",
       "text": [
        "PROGRESS: recommendations finished on 36000/92690 users. users per second: 1963.59"
       ]
      },
      {
       "html": [
        "<pre>PROGRESS: recommendations finished on 37000/92690 users. users per second: 1964.43</pre>"
       ],
       "metadata": {},
       "output_type": "display_data",
       "text": [
        "PROGRESS: recommendations finished on 37000/92690 users. users per second: 1964.43"
       ]
      },
      {
       "html": [
        "<pre>PROGRESS: recommendations finished on 38000/92690 users. users per second: 1965.11</pre>"
       ],
       "metadata": {},
       "output_type": "display_data",
       "text": [
        "PROGRESS: recommendations finished on 38000/92690 users. users per second: 1965.11"
       ]
      },
      {
       "html": [
        "<pre>PROGRESS: recommendations finished on 39000/92690 users. users per second: 1965.02</pre>"
       ],
       "metadata": {},
       "output_type": "display_data",
       "text": [
        "PROGRESS: recommendations finished on 39000/92690 users. users per second: 1965.02"
       ]
      },
      {
       "html": [
        "<pre>PROGRESS: recommendations finished on 40000/92690 users. users per second: 1966.69</pre>"
       ],
       "metadata": {},
       "output_type": "display_data",
       "text": [
        "PROGRESS: recommendations finished on 40000/92690 users. users per second: 1966.69"
       ]
      },
      {
       "html": [
        "<pre>PROGRESS: recommendations finished on 41000/92690 users. users per second: 1967.39</pre>"
       ],
       "metadata": {},
       "output_type": "display_data",
       "text": [
        "PROGRESS: recommendations finished on 41000/92690 users. users per second: 1967.39"
       ]
      },
      {
       "html": [
        "<pre>PROGRESS: recommendations finished on 42000/92690 users. users per second: 1968.19</pre>"
       ],
       "metadata": {},
       "output_type": "display_data",
       "text": [
        "PROGRESS: recommendations finished on 42000/92690 users. users per second: 1968.19"
       ]
      },
      {
       "html": [
        "<pre>PROGRESS: recommendations finished on 43000/92690 users. users per second: 1969.88</pre>"
       ],
       "metadata": {},
       "output_type": "display_data",
       "text": [
        "PROGRESS: recommendations finished on 43000/92690 users. users per second: 1969.88"
       ]
      },
      {
       "html": [
        "<pre>PROGRESS: recommendations finished on 44000/92690 users. users per second: 1971.29</pre>"
       ],
       "metadata": {},
       "output_type": "display_data",
       "text": [
        "PROGRESS: recommendations finished on 44000/92690 users. users per second: 1971.29"
       ]
      },
      {
       "html": [
        "<pre>PROGRESS: recommendations finished on 45000/92690 users. users per second: 1971.87</pre>"
       ],
       "metadata": {},
       "output_type": "display_data",
       "text": [
        "PROGRESS: recommendations finished on 45000/92690 users. users per second: 1971.87"
       ]
      },
      {
       "html": [
        "<pre>PROGRESS: recommendations finished on 46000/92690 users. users per second: 1967.41</pre>"
       ],
       "metadata": {},
       "output_type": "display_data",
       "text": [
        "PROGRESS: recommendations finished on 46000/92690 users. users per second: 1967.41"
       ]
      },
      {
       "html": [
        "<pre>PROGRESS: recommendations finished on 47000/92690 users. users per second: 1968.86</pre>"
       ],
       "metadata": {},
       "output_type": "display_data",
       "text": [
        "PROGRESS: recommendations finished on 47000/92690 users. users per second: 1968.86"
       ]
      },
      {
       "html": [
        "<pre>PROGRESS: recommendations finished on 48000/92690 users. users per second: 1971.48</pre>"
       ],
       "metadata": {},
       "output_type": "display_data",
       "text": [
        "PROGRESS: recommendations finished on 48000/92690 users. users per second: 1971.48"
       ]
      },
      {
       "html": [
        "<pre>PROGRESS: recommendations finished on 49000/92690 users. users per second: 1971.8</pre>"
       ],
       "metadata": {},
       "output_type": "display_data",
       "text": [
        "PROGRESS: recommendations finished on 49000/92690 users. users per second: 1971.8"
       ]
      },
      {
       "html": [
        "<pre>PROGRESS: recommendations finished on 50000/92690 users. users per second: 1970.37</pre>"
       ],
       "metadata": {},
       "output_type": "display_data",
       "text": [
        "PROGRESS: recommendations finished on 50000/92690 users. users per second: 1970.37"
       ]
      },
      {
       "html": [
        "<pre>PROGRESS: recommendations finished on 51000/92690 users. users per second: 1968.77</pre>"
       ],
       "metadata": {},
       "output_type": "display_data",
       "text": [
        "PROGRESS: recommendations finished on 51000/92690 users. users per second: 1968.77"
       ]
      },
      {
       "html": [
        "<pre>PROGRESS: recommendations finished on 52000/92690 users. users per second: 1969.09</pre>"
       ],
       "metadata": {},
       "output_type": "display_data",
       "text": [
        "PROGRESS: recommendations finished on 52000/92690 users. users per second: 1969.09"
       ]
      },
      {
       "html": [
        "<pre>PROGRESS: recommendations finished on 53000/92690 users. users per second: 1967.42</pre>"
       ],
       "metadata": {},
       "output_type": "display_data",
       "text": [
        "PROGRESS: recommendations finished on 53000/92690 users. users per second: 1967.42"
       ]
      },
      {
       "html": [
        "<pre>PROGRESS: recommendations finished on 54000/92690 users. users per second: 1966.44</pre>"
       ],
       "metadata": {},
       "output_type": "display_data",
       "text": [
        "PROGRESS: recommendations finished on 54000/92690 users. users per second: 1966.44"
       ]
      },
      {
       "html": [
        "<pre>PROGRESS: recommendations finished on 55000/92690 users. users per second: 1963.56</pre>"
       ],
       "metadata": {},
       "output_type": "display_data",
       "text": [
        "PROGRESS: recommendations finished on 55000/92690 users. users per second: 1963.56"
       ]
      },
      {
       "html": [
        "<pre>PROGRESS: recommendations finished on 56000/92690 users. users per second: 1963.92</pre>"
       ],
       "metadata": {},
       "output_type": "display_data",
       "text": [
        "PROGRESS: recommendations finished on 56000/92690 users. users per second: 1963.92"
       ]
      },
      {
       "html": [
        "<pre>PROGRESS: recommendations finished on 57000/92690 users. users per second: 1965.62</pre>"
       ],
       "metadata": {},
       "output_type": "display_data",
       "text": [
        "PROGRESS: recommendations finished on 57000/92690 users. users per second: 1965.62"
       ]
      },
      {
       "html": [
        "<pre>PROGRESS: recommendations finished on 58000/92690 users. users per second: 1965.6</pre>"
       ],
       "metadata": {},
       "output_type": "display_data",
       "text": [
        "PROGRESS: recommendations finished on 58000/92690 users. users per second: 1965.6"
       ]
      },
      {
       "html": [
        "<pre>PROGRESS: recommendations finished on 59000/92690 users. users per second: 1966.17</pre>"
       ],
       "metadata": {},
       "output_type": "display_data",
       "text": [
        "PROGRESS: recommendations finished on 59000/92690 users. users per second: 1966.17"
       ]
      },
      {
       "html": [
        "<pre>PROGRESS: recommendations finished on 60000/92690 users. users per second: 1967.2</pre>"
       ],
       "metadata": {},
       "output_type": "display_data",
       "text": [
        "PROGRESS: recommendations finished on 60000/92690 users. users per second: 1967.2"
       ]
      },
      {
       "html": [
        "<pre>PROGRESS: recommendations finished on 61000/92690 users. users per second: 1967.87</pre>"
       ],
       "metadata": {},
       "output_type": "display_data",
       "text": [
        "PROGRESS: recommendations finished on 61000/92690 users. users per second: 1967.87"
       ]
      },
      {
       "html": [
        "<pre>PROGRESS: recommendations finished on 62000/92690 users. users per second: 1969.73</pre>"
       ],
       "metadata": {},
       "output_type": "display_data",
       "text": [
        "PROGRESS: recommendations finished on 62000/92690 users. users per second: 1969.73"
       ]
      },
      {
       "html": [
        "<pre>PROGRESS: recommendations finished on 63000/92690 users. users per second: 1971.27</pre>"
       ],
       "metadata": {},
       "output_type": "display_data",
       "text": [
        "PROGRESS: recommendations finished on 63000/92690 users. users per second: 1971.27"
       ]
      },
      {
       "html": [
        "<pre>PROGRESS: recommendations finished on 64000/92690 users. users per second: 1972.06</pre>"
       ],
       "metadata": {},
       "output_type": "display_data",
       "text": [
        "PROGRESS: recommendations finished on 64000/92690 users. users per second: 1972.06"
       ]
      },
      {
       "html": [
        "<pre>PROGRESS: recommendations finished on 65000/92690 users. users per second: 1969.94</pre>"
       ],
       "metadata": {},
       "output_type": "display_data",
       "text": [
        "PROGRESS: recommendations finished on 65000/92690 users. users per second: 1969.94"
       ]
      },
      {
       "html": [
        "<pre>PROGRESS: recommendations finished on 66000/92690 users. users per second: 1969.41</pre>"
       ],
       "metadata": {},
       "output_type": "display_data",
       "text": [
        "PROGRESS: recommendations finished on 66000/92690 users. users per second: 1969.41"
       ]
      },
      {
       "html": [
        "<pre>PROGRESS: recommendations finished on 67000/92690 users. users per second: 1969.26</pre>"
       ],
       "metadata": {},
       "output_type": "display_data",
       "text": [
        "PROGRESS: recommendations finished on 67000/92690 users. users per second: 1969.26"
       ]
      },
      {
       "html": [
        "<pre>PROGRESS: recommendations finished on 68000/92690 users. users per second: 1969.77</pre>"
       ],
       "metadata": {},
       "output_type": "display_data",
       "text": [
        "PROGRESS: recommendations finished on 68000/92690 users. users per second: 1969.77"
       ]
      },
      {
       "html": [
        "<pre>PROGRESS: recommendations finished on 69000/92690 users. users per second: 1969.77</pre>"
       ],
       "metadata": {},
       "output_type": "display_data",
       "text": [
        "PROGRESS: recommendations finished on 69000/92690 users. users per second: 1969.77"
       ]
      },
      {
       "html": [
        "<pre>PROGRESS: recommendations finished on 70000/92690 users. users per second: 1969.6</pre>"
       ],
       "metadata": {},
       "output_type": "display_data",
       "text": [
        "PROGRESS: recommendations finished on 70000/92690 users. users per second: 1969.6"
       ]
      },
      {
       "html": [
        "<pre>PROGRESS: recommendations finished on 71000/92690 users. users per second: 1969.75</pre>"
       ],
       "metadata": {},
       "output_type": "display_data",
       "text": [
        "PROGRESS: recommendations finished on 71000/92690 users. users per second: 1969.75"
       ]
      },
      {
       "html": [
        "<pre>PROGRESS: recommendations finished on 72000/92690 users. users per second: 1968.24</pre>"
       ],
       "metadata": {},
       "output_type": "display_data",
       "text": [
        "PROGRESS: recommendations finished on 72000/92690 users. users per second: 1968.24"
       ]
      },
      {
       "html": [
        "<pre>PROGRESS: recommendations finished on 73000/92690 users. users per second: 1965.46</pre>"
       ],
       "metadata": {},
       "output_type": "display_data",
       "text": [
        "PROGRESS: recommendations finished on 73000/92690 users. users per second: 1965.46"
       ]
      },
      {
       "html": [
        "<pre>PROGRESS: recommendations finished on 74000/92690 users. users per second: 1965.77</pre>"
       ],
       "metadata": {},
       "output_type": "display_data",
       "text": [
        "PROGRESS: recommendations finished on 74000/92690 users. users per second: 1965.77"
       ]
      },
      {
       "html": [
        "<pre>PROGRESS: recommendations finished on 75000/92690 users. users per second: 1966.01</pre>"
       ],
       "metadata": {},
       "output_type": "display_data",
       "text": [
        "PROGRESS: recommendations finished on 75000/92690 users. users per second: 1966.01"
       ]
      },
      {
       "html": [
        "<pre>PROGRESS: recommendations finished on 76000/92690 users. users per second: 1965.98</pre>"
       ],
       "metadata": {},
       "output_type": "display_data",
       "text": [
        "PROGRESS: recommendations finished on 76000/92690 users. users per second: 1965.98"
       ]
      },
      {
       "html": [
        "<pre>PROGRESS: recommendations finished on 77000/92690 users. users per second: 1965.96</pre>"
       ],
       "metadata": {},
       "output_type": "display_data",
       "text": [
        "PROGRESS: recommendations finished on 77000/92690 users. users per second: 1965.96"
       ]
      },
      {
       "html": [
        "<pre>PROGRESS: recommendations finished on 78000/92690 users. users per second: 1964.59</pre>"
       ],
       "metadata": {},
       "output_type": "display_data",
       "text": [
        "PROGRESS: recommendations finished on 78000/92690 users. users per second: 1964.59"
       ]
      },
      {
       "html": [
        "<pre>PROGRESS: recommendations finished on 79000/92690 users. users per second: 1964.86</pre>"
       ],
       "metadata": {},
       "output_type": "display_data",
       "text": [
        "PROGRESS: recommendations finished on 79000/92690 users. users per second: 1964.86"
       ]
      },
      {
       "html": [
        "<pre>PROGRESS: recommendations finished on 80000/92690 users. users per second: 1965.62</pre>"
       ],
       "metadata": {},
       "output_type": "display_data",
       "text": [
        "PROGRESS: recommendations finished on 80000/92690 users. users per second: 1965.62"
       ]
      },
      {
       "html": [
        "<pre>PROGRESS: recommendations finished on 81000/92690 users. users per second: 1965.22</pre>"
       ],
       "metadata": {},
       "output_type": "display_data",
       "text": [
        "PROGRESS: recommendations finished on 81000/92690 users. users per second: 1965.22"
       ]
      },
      {
       "html": [
        "<pre>PROGRESS: recommendations finished on 82000/92690 users. users per second: 1966.28</pre>"
       ],
       "metadata": {},
       "output_type": "display_data",
       "text": [
        "PROGRESS: recommendations finished on 82000/92690 users. users per second: 1966.28"
       ]
      },
      {
       "html": [
        "<pre>PROGRESS: recommendations finished on 83000/92690 users. users per second: 1966.05</pre>"
       ],
       "metadata": {},
       "output_type": "display_data",
       "text": [
        "PROGRESS: recommendations finished on 83000/92690 users. users per second: 1966.05"
       ]
      },
      {
       "html": [
        "<pre>PROGRESS: recommendations finished on 84000/92690 users. users per second: 1966.37</pre>"
       ],
       "metadata": {},
       "output_type": "display_data",
       "text": [
        "PROGRESS: recommendations finished on 84000/92690 users. users per second: 1966.37"
       ]
      },
      {
       "html": [
        "<pre>PROGRESS: recommendations finished on 85000/92690 users. users per second: 1968.38</pre>"
       ],
       "metadata": {},
       "output_type": "display_data",
       "text": [
        "PROGRESS: recommendations finished on 85000/92690 users. users per second: 1968.38"
       ]
      },
      {
       "html": [
        "<pre>PROGRESS: recommendations finished on 86000/92690 users. users per second: 1968.79</pre>"
       ],
       "metadata": {},
       "output_type": "display_data",
       "text": [
        "PROGRESS: recommendations finished on 86000/92690 users. users per second: 1968.79"
       ]
      },
      {
       "html": [
        "<pre>PROGRESS: recommendations finished on 87000/92690 users. users per second: 1969.17</pre>"
       ],
       "metadata": {},
       "output_type": "display_data",
       "text": [
        "PROGRESS: recommendations finished on 87000/92690 users. users per second: 1969.17"
       ]
      },
      {
       "html": [
        "<pre>PROGRESS: recommendations finished on 88000/92690 users. users per second: 1968.8</pre>"
       ],
       "metadata": {},
       "output_type": "display_data",
       "text": [
        "PROGRESS: recommendations finished on 88000/92690 users. users per second: 1968.8"
       ]
      },
      {
       "html": [
        "<pre>PROGRESS: recommendations finished on 89000/92690 users. users per second: 1965.58</pre>"
       ],
       "metadata": {},
       "output_type": "display_data",
       "text": [
        "PROGRESS: recommendations finished on 89000/92690 users. users per second: 1965.58"
       ]
      },
      {
       "html": [
        "<pre>PROGRESS: recommendations finished on 90000/92690 users. users per second: 1965.8</pre>"
       ],
       "metadata": {},
       "output_type": "display_data",
       "text": [
        "PROGRESS: recommendations finished on 90000/92690 users. users per second: 1965.8"
       ]
      },
      {
       "html": [
        "<pre>PROGRESS: recommendations finished on 91000/92690 users. users per second: 1963.78</pre>"
       ],
       "metadata": {},
       "output_type": "display_data",
       "text": [
        "PROGRESS: recommendations finished on 91000/92690 users. users per second: 1963.78"
       ]
      },
      {
       "html": [
        "<pre>PROGRESS: recommendations finished on 92000/92690 users. users per second: 1964.25</pre>"
       ],
       "metadata": {},
       "output_type": "display_data",
       "text": [
        "PROGRESS: recommendations finished on 92000/92690 users. users per second: 1964.25"
       ]
      }
     ],
     "prompt_number": 38
    },
    {
     "cell_type": "markdown",
     "metadata": {},
     "source": [
      "**Bonus**: Use GraphLab Canvas to find out the 10 most often recommended items."
     ]
    },
    {
     "cell_type": "code",
     "collapsed": false,
     "input": [
      "python_recs.show()  # Then click on the Summary tab and look at the histogram in the second column."
     ],
     "language": "python",
     "metadata": {},
     "outputs": [],
     "prompt_number": 39
    },
    {
     "cell_type": "markdown",
     "metadata": {},
     "source": [
      "Save your model to a file using [save()](http://graphlab.com/products/create/docs/generated/graphlab.recommender.ItemSimilarityModel.save.html#graphlab.recommender.ItemSimilarityModel.save)."
     ]
    },
    {
     "cell_type": "code",
     "collapsed": false,
     "input": [
      "m1.save('my_model')"
     ],
     "language": "python",
     "metadata": {},
     "outputs": [],
     "prompt_number": 22
    },
    {
     "cell_type": "heading",
     "level": 3,
     "metadata": {},
     "source": [
      "Experimenting with new models"
     ]
    },
    {
     "cell_type": "markdown",
     "metadata": {},
     "source": [
      "Now use [graphlab.recommender.create()](http://graphlab.com/products/create/docs/generated/graphlab.recommender.create.html#graphlab.recommender.create) to create a matrix factorization model that is better at ranking by setting `ranking_regularization` argument to 1.0."
     ]
    },
    {
     "cell_type": "code",
     "collapsed": false,
     "input": [
      "m2 = gl.recommender.create(train, \n",
      "                            user_id='OwnerUserId', item_id='Tag', target='Count',\n",
      "                            method='matrix_factorization', \n",
      "                            ranking_regularization=1.0)"
     ],
     "language": "python",
     "metadata": {},
     "outputs": [
      {
       "html": [
        "<pre>PROGRESS: Recsys training: model = matrix_factorization</pre>"
       ],
       "metadata": {},
       "output_type": "display_data",
       "text": [
        "PROGRESS: Recsys training: model = matrix_factorization"
       ]
      },
      {
       "html": [
        "<pre>PROGRESS: Training Schema = [ (OwnerUserId:categorical) (Tag:categorical) : target = Count]</pre>"
       ],
       "metadata": {},
       "output_type": "display_data",
       "text": [
        "PROGRESS: Training Schema = [ (OwnerUserId:categorical) (Tag:categorical) : target = Count]"
       ]
      },
      {
       "html": [
        "<pre>PROGRESS: Preparing data set.</pre>"
       ],
       "metadata": {},
       "output_type": "display_data",
       "text": [
        "PROGRESS: Preparing data set."
       ]
      },
      {
       "html": [
        "<pre>PROGRESS:     Training on 6350879 training observations.</pre>"
       ],
       "metadata": {},
       "output_type": "display_data",
       "text": [
        "PROGRESS:     Training on 6350879 training observations."
       ]
      },
      {
       "html": [
        "<pre>PROGRESS:     Data loaded in: 5.2316s</pre>"
       ],
       "metadata": {},
       "output_type": "display_data",
       "text": [
        "PROGRESS:     Data loaded in: 5.2316s"
       ]
      },
      {
       "html": [
        "<pre>PROGRESS: Training Matrix Factorization model for recommendations.</pre>"
       ],
       "metadata": {},
       "output_type": "display_data",
       "text": [
        "PROGRESS: Training Matrix Factorization model for recommendations."
       ]
      },
      {
       "html": [
        "<pre>PROGRESS:    Data has 6350879 observations with 656074 users and 44144 items.</pre>"
       ],
       "metadata": {},
       "output_type": "display_data",
       "text": [
        "PROGRESS:    Data has 6350879 observations with 656074 users and 44144 items."
       ]
      },
      {
       "html": [
        "<pre>PROGRESS:    L2 regularization on linear coefficients: 0</pre>"
       ],
       "metadata": {},
       "output_type": "display_data",
       "text": [
        "PROGRESS:    L2 regularization on linear coefficients: 0"
       ]
      },
      {
       "html": [
        "<pre>PROGRESS:    L2 regularization on matrix factors:      1</pre>"
       ],
       "metadata": {},
       "output_type": "display_data",
       "text": [
        "PROGRESS:    L2 regularization on matrix factors:      1"
       ]
      },
      {
       "html": [
        "<pre>PROGRESS:    n_factors:                                8</pre>"
       ],
       "metadata": {},
       "output_type": "display_data",
       "text": [
        "PROGRESS:    n_factors:                                8"
       ]
      },
      {
       "html": [
        "<pre>PROGRESS:   Setting unobserved_rating_value to -5.32154</pre>"
       ],
       "metadata": {},
       "output_type": "display_data",
       "text": [
        "PROGRESS:   Setting unobserved_rating_value to -5.32154"
       ]
      },
      {
       "html": [
        "<pre>PROGRESS:   Optimizing model using SGD; tuning step size.</pre>"
       ],
       "metadata": {},
       "output_type": "display_data",
       "text": [
        "PROGRESS:   Optimizing model using SGD; tuning step size."
       ]
      },
      {
       "html": [
        "<pre>PROGRESS:   Using 63508 / 6350879 points for tuning the step size.</pre>"
       ],
       "metadata": {},
       "output_type": "display_data",
       "text": [
        "PROGRESS:   Using 63508 / 6350879 points for tuning the step size."
       ]
      },
      {
       "html": [
        "<pre>PROGRESS: +---------+-------------------+---------------------------+</pre>"
       ],
       "metadata": {},
       "output_type": "display_data",
       "text": [
        "PROGRESS: +---------+-------------------+---------------------------+"
       ]
      },
      {
       "html": [
        "<pre>PROGRESS: | Attempt | Initial Step Size | Estimated Objective Value |</pre>"
       ],
       "metadata": {},
       "output_type": "display_data",
       "text": [
        "PROGRESS: | Attempt | Initial Step Size | Estimated Objective Value |"
       ]
      },
      {
       "html": [
        "<pre>PROGRESS: +---------+-------------------+---------------------------+</pre>"
       ],
       "metadata": {},
       "output_type": "display_data",
       "text": [
        "PROGRESS: +---------+-------------------+---------------------------+"
       ]
      },
      {
       "html": [
        "<pre>PROGRESS: | 0       | 25                | Not Viable                |</pre>"
       ],
       "metadata": {},
       "output_type": "display_data",
       "text": [
        "PROGRESS: | 0       | 25                | Not Viable                |"
       ]
      },
      {
       "html": [
        "<pre>PROGRESS: | 1       | 6.25              | Not Viable                |</pre>"
       ],
       "metadata": {},
       "output_type": "display_data",
       "text": [
        "PROGRESS: | 1       | 6.25              | Not Viable                |"
       ]
      },
      {
       "html": [
        "<pre>PROGRESS: | 2       | 1.5625            | Not Viable                |</pre>"
       ],
       "metadata": {},
       "output_type": "display_data",
       "text": [
        "PROGRESS: | 2       | 1.5625            | Not Viable                |"
       ]
      },
      {
       "html": [
        "<pre>PROGRESS: | 3       | 0.390625          | Not Viable                |</pre>"
       ],
       "metadata": {},
       "output_type": "display_data",
       "text": [
        "PROGRESS: | 3       | 0.390625          | Not Viable                |"
       ]
      },
      {
       "html": [
        "<pre>PROGRESS: | 4       | 0.0976562         | Not Viable                |</pre>"
       ],
       "metadata": {},
       "output_type": "display_data",
       "text": [
        "PROGRESS: | 4       | 0.0976562         | Not Viable                |"
       ]
      },
      {
       "html": [
        "<pre>PROGRESS: | 5       | 0.0244141         | Not Viable                |</pre>"
       ],
       "metadata": {},
       "output_type": "display_data",
       "text": [
        "PROGRESS: | 5       | 0.0244141         | Not Viable                |"
       ]
      },
      {
       "html": [
        "<pre>PROGRESS: | 6       | 0.00610352        | Not Viable                |</pre>"
       ],
       "metadata": {},
       "output_type": "display_data",
       "text": [
        "PROGRESS: | 6       | 0.00610352        | Not Viable                |"
       ]
      },
      {
       "html": [
        "<pre>PROGRESS: | 7       | 0.00152588        | 4.32871                   |</pre>"
       ],
       "metadata": {},
       "output_type": "display_data",
       "text": [
        "PROGRESS: | 7       | 0.00152588        | 4.32871                   |"
       ]
      },
      {
       "html": [
        "<pre>PROGRESS: | 8       | 0.00038147        | 5.68528                   |</pre>"
       ],
       "metadata": {},
       "output_type": "display_data",
       "text": [
        "PROGRESS: | 8       | 0.00038147        | 5.68528                   |"
       ]
      },
      {
       "html": [
        "<pre>PROGRESS: | 9       | 9.53674e-05       | 5.94397                   |</pre>"
       ],
       "metadata": {},
       "output_type": "display_data",
       "text": [
        "PROGRESS: | 9       | 9.53674e-05       | 5.94397                   |"
       ]
      },
      {
       "html": [
        "<pre>PROGRESS: | 10      | 2.38419e-05       | 6.13213                   |</pre>"
       ],
       "metadata": {},
       "output_type": "display_data",
       "text": [
        "PROGRESS: | 10      | 2.38419e-05       | 6.13213                   |"
       ]
      },
      {
       "html": [
        "<pre>PROGRESS: | 11      | 5.96046e-06       | 6.17726                   |</pre>"
       ],
       "metadata": {},
       "output_type": "display_data",
       "text": [
        "PROGRESS: | 11      | 5.96046e-06       | 6.17726                   |"
       ]
      },
      {
       "html": [
        "<pre>PROGRESS: +---------+-------------------+---------------------------+</pre>"
       ],
       "metadata": {},
       "output_type": "display_data",
       "text": [
        "PROGRESS: +---------+-------------------+---------------------------+"
       ]
      },
      {
       "html": [
        "<pre>PROGRESS: | Final   | 0.00152588        | 4.32871                   |</pre>"
       ],
       "metadata": {},
       "output_type": "display_data",
       "text": [
        "PROGRESS: | Final   | 0.00152588        | 4.32871                   |"
       ]
      },
      {
       "html": [
        "<pre>PROGRESS: +---------+-------------------+---------------------------+</pre>"
       ],
       "metadata": {},
       "output_type": "display_data",
       "text": [
        "PROGRESS: +---------+-------------------+---------------------------+"
       ]
      },
      {
       "html": [
        "<pre>PROGRESS: Starting Optimization.</pre>"
       ],
       "metadata": {},
       "output_type": "display_data",
       "text": [
        "PROGRESS: Starting Optimization."
       ]
      },
      {
       "html": [
        "<pre>PROGRESS: +---------+--------------+----------------+---------------+-------------+</pre>"
       ],
       "metadata": {},
       "output_type": "display_data",
       "text": [
        "PROGRESS: +---------+--------------+----------------+---------------+-------------+"
       ]
      },
      {
       "html": [
        "<pre>PROGRESS: | Iter.   | Elapsed Time | Est. Objective | Training Loss | Step Size   |</pre>"
       ],
       "metadata": {},
       "output_type": "display_data",
       "text": [
        "PROGRESS: | Iter.   | Elapsed Time | Est. Objective | Training Loss | Step Size   |"
       ]
      },
      {
       "html": [
        "<pre>PROGRESS: +---------+--------------+----------------+---------------+-------------+</pre>"
       ],
       "metadata": {},
       "output_type": "display_data",
       "text": [
        "PROGRESS: +---------+--------------+----------------+---------------+-------------+"
       ]
      },
      {
       "html": [
        "<pre>PROGRESS: | Initial | 50us         | 43.6166        | 3.91084       |             |</pre>"
       ],
       "metadata": {},
       "output_type": "display_data",
       "text": [
        "PROGRESS: | Initial | 50us         | 43.6166        | 3.91084       |             |"
       ]
      },
      {
       "html": [
        "<pre>PROGRESS: +---------+--------------+----------------+---------------+-------------+</pre>"
       ],
       "metadata": {},
       "output_type": "display_data",
       "text": [
        "PROGRESS: +---------+--------------+----------------+---------------+-------------+"
       ]
      },
      {
       "html": [
        "<pre>PROGRESS: | 1       | 998.708ms    | 24.1116        | 4.30337       | 0.00152588  |</pre>"
       ],
       "metadata": {},
       "output_type": "display_data",
       "text": [
        "PROGRESS: | 1       | 998.708ms    | 24.1116        | 4.30337       | 0.00152588  |"
       ]
      },
      {
       "html": [
        "<pre>PROGRESS: | 2       | 2.03s        | 20.572         | 3.8973        | 0.000907293 |</pre>"
       ],
       "metadata": {},
       "output_type": "display_data",
       "text": [
        "PROGRESS: | 2       | 2.03s        | 20.572         | 3.8973        | 0.000907293 |"
       ]
      },
      {
       "html": [
        "<pre>PROGRESS: | 3       | 3.12s        | 18.6937        | 3.64654       | 0.00066939  |</pre>"
       ],
       "metadata": {},
       "output_type": "display_data",
       "text": [
        "PROGRESS: | 3       | 3.12s        | 18.6937        | 3.64654       | 0.00066939  |"
       ]
      },
      {
       "html": [
        "<pre>PROGRESS: | 4       | 4.22s        | 17.3926        | 3.46483       | 0.00053948  |</pre>"
       ],
       "metadata": {},
       "output_type": "display_data",
       "text": [
        "PROGRESS: | 4       | 4.22s        | 17.3926        | 3.46483       | 0.00053948  |"
       ]
      },
      {
       "html": [
        "<pre>PROGRESS: | 5       | 5.35s        | 16.4911        | 3.34068       | 0.000456344 |</pre>"
       ],
       "metadata": {},
       "output_type": "display_data",
       "text": [
        "PROGRESS: | 5       | 5.35s        | 16.4911        | 3.34068       | 0.000456344 |"
       ]
      },
      {
       "html": [
        "<pre>PROGRESS: | 6       | 6.47s        | 15.9809        | 3.2682        | 0.000398022 |</pre>"
       ],
       "metadata": {},
       "output_type": "display_data",
       "text": [
        "PROGRESS: | 6       | 6.47s        | 15.9809        | 3.2682        | 0.000398022 |"
       ]
      },
      {
       "html": [
        "<pre>PROGRESS: | 7       | 7.58s        | 15.7055        | 3.22271       | 0.000354566 |</pre>"
       ],
       "metadata": {},
       "output_type": "display_data",
       "text": [
        "PROGRESS: | 7       | 7.58s        | 15.7055        | 3.22271       | 0.000354566 |"
       ]
      },
      {
       "html": [
        "<pre>PROGRESS: | 8       | 8.69s        | 15.4102        | 3.18315       | 0.000320777 |</pre>"
       ],
       "metadata": {},
       "output_type": "display_data",
       "text": [
        "PROGRESS: | 8       | 8.69s        | 15.4102        | 3.18315       | 0.000320777 |"
       ]
      },
      {
       "html": [
        "<pre>PROGRESS: | 9       | 9.80s        | 15.1998        | 3.15097       | 0.000293656 |</pre>"
       ],
       "metadata": {},
       "output_type": "display_data",
       "text": [
        "PROGRESS: | 9       | 9.80s        | 15.1998        | 3.15097       | 0.000293656 |"
       ]
      },
      {
       "html": [
        "<pre>PROGRESS: | 10      | 10.91s       | 15.0805        | 3.12826       | 0.000271344 |</pre>"
       ],
       "metadata": {},
       "output_type": "display_data",
       "text": [
        "PROGRESS: | 10      | 10.91s       | 15.0805        | 3.12826       | 0.000271344 |"
       ]
      },
      {
       "html": [
        "<pre>PROGRESS: | 11      | 12.03s       | 14.8906        | 3.10321       | 0.000252625 |</pre>"
       ],
       "metadata": {},
       "output_type": "display_data",
       "text": [
        "PROGRESS: | 11      | 12.03s       | 14.8906        | 3.10321       | 0.000252625 |"
       ]
      },
      {
       "html": [
        "<pre>PROGRESS: | 12      | 13.15s       | 14.7467        | 3.08429       | 0.000236665 |</pre>"
       ],
       "metadata": {},
       "output_type": "display_data",
       "text": [
        "PROGRESS: | 12      | 13.15s       | 14.7467        | 3.08429       | 0.000236665 |"
       ]
      },
      {
       "html": [
        "<pre>PROGRESS: | 13      | 14.50s       | 14.6539        | 3.07731       | 0.000222876 |</pre>"
       ],
       "metadata": {},
       "output_type": "display_data",
       "text": [
        "PROGRESS: | 13      | 14.50s       | 14.6539        | 3.07731       | 0.000222876 |"
       ]
      },
      {
       "html": [
        "<pre>PROGRESS: | 14      | 15.81s       | 14.566         | 3.05827       | 0.000210826 |</pre>"
       ],
       "metadata": {},
       "output_type": "display_data",
       "text": [
        "PROGRESS: | 14      | 15.81s       | 14.566         | 3.05827       | 0.000210826 |"
       ]
      },
      {
       "html": [
        "<pre>PROGRESS: | 15      | 17.13s       | 14.4807        | 3.0428        | 0.000200194 |</pre>"
       ],
       "metadata": {},
       "output_type": "display_data",
       "text": [
        "PROGRESS: | 15      | 17.13s       | 14.4807        | 3.0428        | 0.000200194 |"
       ]
      },
      {
       "html": [
        "<pre>PROGRESS: | 16      | 18.46s       | 14.3868        | 3.03479       | 0.000190735 |</pre>"
       ],
       "metadata": {},
       "output_type": "display_data",
       "text": [
        "PROGRESS: | 16      | 18.46s       | 14.3868        | 3.03479       | 0.000190735 |"
       ]
      },
      {
       "html": [
        "<pre>PROGRESS: | 17      | 19.58s       | 14.316         | 3.01969       | 0.000182257 |</pre>"
       ],
       "metadata": {},
       "output_type": "display_data",
       "text": [
        "PROGRESS: | 17      | 19.58s       | 14.316         | 3.01969       | 0.000182257 |"
       ]
      },
      {
       "html": [
        "<pre>PROGRESS: | 18      | 20.68s       | 14.2495        | 3.01226       | 0.000174609 |</pre>"
       ],
       "metadata": {},
       "output_type": "display_data",
       "text": [
        "PROGRESS: | 18      | 20.68s       | 14.2495        | 3.01226       | 0.000174609 |"
       ]
      },
      {
       "html": [
        "<pre>PROGRESS: | 19      | 21.79s       | 14.1993        | 3.0038        | 0.00016767  |</pre>"
       ],
       "metadata": {},
       "output_type": "display_data",
       "text": [
        "PROGRESS: | 19      | 21.79s       | 14.1993        | 3.0038        | 0.00016767  |"
       ]
      },
      {
       "html": [
        "<pre>PROGRESS: | 20      | 22.89s       | 14.2034        | 2.99737       | 0.000161342 |</pre>"
       ],
       "metadata": {},
       "output_type": "display_data",
       "text": [
        "PROGRESS: | 20      | 22.89s       | 14.2034        | 2.99737       | 0.000161342 |"
       ]
      },
      {
       "html": [
        "<pre>PROGRESS: | 21      | 24.00s       | 14.1143        | 2.99143       | 0.000155545 |</pre>"
       ],
       "metadata": {},
       "output_type": "display_data",
       "text": [
        "PROGRESS: | 21      | 24.00s       | 14.1143        | 2.99143       | 0.000155545 |"
       ]
      },
      {
       "html": [
        "<pre>PROGRESS: | 22      | 25.12s       | 14.0623        | 2.98534       | 0.000150211 |</pre>"
       ],
       "metadata": {},
       "output_type": "display_data",
       "text": [
        "PROGRESS: | 22      | 25.12s       | 14.0623        | 2.98534       | 0.000150211 |"
       ]
      },
      {
       "html": [
        "<pre>PROGRESS: | 23      | 26.33s       | 14.0494        | 2.98176       | 0.000145286 |</pre>"
       ],
       "metadata": {},
       "output_type": "display_data",
       "text": [
        "PROGRESS: | 23      | 26.33s       | 14.0494        | 2.98176       | 0.000145286 |"
       ]
      },
      {
       "html": [
        "<pre>PROGRESS: | 24      | 27.49s       | 14.012         | 2.97591       | 0.000140722 |</pre>"
       ],
       "metadata": {},
       "output_type": "display_data",
       "text": [
        "PROGRESS: | 24      | 27.49s       | 14.012         | 2.97591       | 0.000140722 |"
       ]
      },
      {
       "html": [
        "<pre>PROGRESS: | 25      | 28.59s       | 13.9271        | 2.96922       | 0.000136479 |</pre>"
       ],
       "metadata": {},
       "output_type": "display_data",
       "text": [
        "PROGRESS: | 25      | 28.59s       | 13.9271        | 2.96922       | 0.000136479 |"
       ]
      },
      {
       "html": [
        "<pre>PROGRESS: | 26      | 29.69s       | 13.9273        | 2.96427       | 0.000132523 |</pre>"
       ],
       "metadata": {},
       "output_type": "display_data",
       "text": [
        "PROGRESS: | 26      | 29.69s       | 13.9273        | 2.96427       | 0.000132523 |"
       ]
      },
      {
       "html": [
        "<pre>PROGRESS: | 27      | 30.80s       | 13.8823        | 2.96025       | 0.000128824 |</pre>"
       ],
       "metadata": {},
       "output_type": "display_data",
       "text": [
        "PROGRESS: | 27      | 30.80s       | 13.8823        | 2.96025       | 0.000128824 |"
       ]
      },
      {
       "html": [
        "<pre>PROGRESS: | 28      | 31.90s       | 13.8499        | 2.95653       | 0.000125358 |</pre>"
       ],
       "metadata": {},
       "output_type": "display_data",
       "text": [
        "PROGRESS: | 28      | 31.90s       | 13.8499        | 2.95653       | 0.000125358 |"
       ]
      },
      {
       "html": [
        "<pre>PROGRESS: | 29      | 33.00s       | 13.816         | 2.95142       | 0.000122102 |</pre>"
       ],
       "metadata": {},
       "output_type": "display_data",
       "text": [
        "PROGRESS: | 29      | 33.00s       | 13.816         | 2.95142       | 0.000122102 |"
       ]
      },
      {
       "html": [
        "<pre>PROGRESS: | 30      | 34.10s       | 13.7817        | 2.9477        | 0.000119036 |</pre>"
       ],
       "metadata": {},
       "output_type": "display_data",
       "text": [
        "PROGRESS: | 30      | 34.10s       | 13.7817        | 2.9477        | 0.000119036 |"
       ]
      },
      {
       "html": [
        "<pre>PROGRESS: | 31      | 35.20s       | 13.802         | 2.94472       | 0.000116145 |</pre>"
       ],
       "metadata": {},
       "output_type": "display_data",
       "text": [
        "PROGRESS: | 31      | 35.20s       | 13.802         | 2.94472       | 0.000116145 |"
       ]
      },
      {
       "html": [
        "<pre>PROGRESS: | 32      | 36.31s       | 13.7205        | 2.94173       | 0.000113412 |</pre>"
       ],
       "metadata": {},
       "output_type": "display_data",
       "text": [
        "PROGRESS: | 32      | 36.31s       | 13.7205        | 2.94173       | 0.000113412 |"
       ]
      },
      {
       "html": [
        "<pre>PROGRESS: | 33      | 37.43s       | 13.7143        | 2.9379        | 0.000110824 |</pre>"
       ],
       "metadata": {},
       "output_type": "display_data",
       "text": [
        "PROGRESS: | 33      | 37.43s       | 13.7143        | 2.9379        | 0.000110824 |"
       ]
      },
      {
       "html": [
        "<pre>PROGRESS: | 34      | 38.55s       | 13.696         | 2.93586       | 0.00010837  |</pre>"
       ],
       "metadata": {},
       "output_type": "display_data",
       "text": [
        "PROGRESS: | 34      | 38.55s       | 13.696         | 2.93586       | 0.00010837  |"
       ]
      },
      {
       "html": [
        "<pre>PROGRESS: | 35      | 39.65s       | 13.6676        | 2.93051       | 0.00010604  |</pre>"
       ],
       "metadata": {},
       "output_type": "display_data",
       "text": [
        "PROGRESS: | 35      | 39.65s       | 13.6676        | 2.93051       | 0.00010604  |"
       ]
      },
      {
       "html": [
        "<pre>PROGRESS: | 36      | 40.76s       | 13.6684        | 2.92973       | 0.000103823 |</pre>"
       ],
       "metadata": {},
       "output_type": "display_data",
       "text": [
        "PROGRESS: | 36      | 40.76s       | 13.6684        | 2.92973       | 0.000103823 |"
       ]
      },
      {
       "html": [
        "<pre>PROGRESS: | 37      | 41.85s       | 13.6314        | 2.92572       | 0.000101711 |</pre>"
       ],
       "metadata": {},
       "output_type": "display_data",
       "text": [
        "PROGRESS: | 37      | 41.85s       | 13.6314        | 2.92572       | 0.000101711 |"
       ]
      },
      {
       "html": [
        "<pre>PROGRESS: | 38      | 42.95s       | 13.6304        | 2.92383       | 9.96971e-05 |</pre>"
       ],
       "metadata": {},
       "output_type": "display_data",
       "text": [
        "PROGRESS: | 38      | 42.95s       | 13.6304        | 2.92383       | 9.96971e-05 |"
       ]
      },
      {
       "html": [
        "<pre>PROGRESS: | 39      | 44.06s       | 13.564         | 2.92027       | 9.77736e-05 |</pre>"
       ],
       "metadata": {},
       "output_type": "display_data",
       "text": [
        "PROGRESS: | 39      | 44.06s       | 13.564         | 2.92027       | 9.77736e-05 |"
       ]
      },
      {
       "html": [
        "<pre>PROGRESS: | 40      | 45.15s       | 13.5699        | 2.91851       | 9.59346e-05 |</pre>"
       ],
       "metadata": {},
       "output_type": "display_data",
       "text": [
        "PROGRESS: | 40      | 45.15s       | 13.5699        | 2.91851       | 9.59346e-05 |"
       ]
      },
      {
       "html": [
        "<pre>PROGRESS: | 41      | 46.24s       | 13.5461        | 2.91594       | 9.41743e-05 |</pre>"
       ],
       "metadata": {},
       "output_type": "display_data",
       "text": [
        "PROGRESS: | 41      | 46.24s       | 13.5461        | 2.91594       | 9.41743e-05 |"
       ]
      },
      {
       "html": [
        "<pre>PROGRESS: | 42      | 47.37s       | 13.5654        | 2.91568       | 9.24875e-05 |</pre>"
       ],
       "metadata": {},
       "output_type": "display_data",
       "text": [
        "PROGRESS: | 42      | 47.37s       | 13.5654        | 2.91568       | 9.24875e-05 |"
       ]
      },
      {
       "html": [
        "<pre>PROGRESS: | 43      | 48.46s       | 13.5158        | 2.91218       | 9.08696e-05 |</pre>"
       ],
       "metadata": {},
       "output_type": "display_data",
       "text": [
        "PROGRESS: | 43      | 48.46s       | 13.5158        | 2.91218       | 9.08696e-05 |"
       ]
      },
      {
       "html": [
        "<pre>PROGRESS: | 44      | 49.56s       | 13.4896        | 2.91056       | 8.93163e-05 |</pre>"
       ],
       "metadata": {},
       "output_type": "display_data",
       "text": [
        "PROGRESS: | 44      | 49.56s       | 13.4896        | 2.91056       | 8.93163e-05 |"
       ]
      },
      {
       "html": [
        "<pre>PROGRESS: | 45      | 50.66s       | 13.4962        | 2.90772       | 8.78235e-05 |</pre>"
       ],
       "metadata": {},
       "output_type": "display_data",
       "text": [
        "PROGRESS: | 45      | 50.66s       | 13.4962        | 2.90772       | 8.78235e-05 |"
       ]
      },
      {
       "html": [
        "<pre>PROGRESS: | 46      | 51.75s       | 13.4837        | 2.90578       | 8.63877e-05 |</pre>"
       ],
       "metadata": {},
       "output_type": "display_data",
       "text": [
        "PROGRESS: | 46      | 51.75s       | 13.4837        | 2.90578       | 8.63877e-05 |"
       ]
      },
      {
       "html": [
        "<pre>PROGRESS: | 47      | 52.86s       | 13.4451        | 2.90347       | 8.50054e-05 |</pre>"
       ],
       "metadata": {},
       "output_type": "display_data",
       "text": [
        "PROGRESS: | 47      | 52.86s       | 13.4451        | 2.90347       | 8.50054e-05 |"
       ]
      },
      {
       "html": [
        "<pre>PROGRESS: | 48      | 53.95s       | 13.4564        | 2.90206       | 8.36737e-05 |</pre>"
       ],
       "metadata": {},
       "output_type": "display_data",
       "text": [
        "PROGRESS: | 48      | 53.95s       | 13.4564        | 2.90206       | 8.36737e-05 |"
       ]
      },
      {
       "html": [
        "<pre>PROGRESS: | 49      | 55.10s       | 13.3995        | 2.90087       | 8.23897e-05 |</pre>"
       ],
       "metadata": {},
       "output_type": "display_data",
       "text": [
        "PROGRESS: | 49      | 55.10s       | 13.3995        | 2.90087       | 8.23897e-05 |"
       ]
      },
      {
       "html": [
        "<pre>PROGRESS: | 50      | 56.20s       | 13.6184        | 2.90113       | 8.11508e-05 |</pre>"
       ],
       "metadata": {},
       "output_type": "display_data",
       "text": [
        "PROGRESS: | 50      | 56.20s       | 13.6184        | 2.90113       | 8.11508e-05 |"
       ]
      },
      {
       "html": [
        "<pre>PROGRESS: +---------+--------------+----------------+---------------+-------------+</pre>"
       ],
       "metadata": {},
       "output_type": "display_data",
       "text": [
        "PROGRESS: +---------+--------------+----------------+---------------+-------------+"
       ]
      },
      {
       "html": [
        "<pre>PROGRESS: | Final   | 57.01s       | 13.5359        | 2.90401       |             |</pre>"
       ],
       "metadata": {},
       "output_type": "display_data",
       "text": [
        "PROGRESS: | Final   | 57.01s       | 13.5359        | 2.90401       |             |"
       ]
      },
      {
       "html": [
        "<pre>PROGRESS: +---------+--------------+----------------+---------------+-------------+</pre>"
       ],
       "metadata": {},
       "output_type": "display_data",
       "text": [
        "PROGRESS: +---------+--------------+----------------+---------------+-------------+"
       ]
      },
      {
       "html": [
        "<pre>PROGRESS: Optimization Complete: Maximum number of passes through the data reached.</pre>"
       ],
       "metadata": {},
       "output_type": "display_data",
       "text": [
        "PROGRESS: Optimization Complete: Maximum number of passes through the data reached."
       ]
      }
     ],
     "prompt_number": 42
    },
    {
     "cell_type": "markdown",
     "metadata": {},
     "source": [
      "Retrieve the coefficients for each user that were learned by this algorithm.  **Hint**: check out [model.get()](http://graphlab.com/products/create/docs/generated/graphlab.recommender.ItemSimilarityModel.get.html#graphlab.recommender.ItemSimilarityModel.get)."
     ]
    },
    {
     "cell_type": "code",
     "collapsed": false,
     "input": [
      "m2['coefficients']['OwnerUserId']"
     ],
     "language": "python",
     "metadata": {},
     "outputs": [
      {
       "html": [
        "<div style=\"max-height:1000px;max-width:1500px;overflow:auto;\"><table frame=\"box\" rules=\"cols\">\n",
        "    <tr>\n",
        "        <th style=\"padding-left: 1em; padding-right: 1em; text-align: center\">OwnerUserId</th>\n",
        "        <th style=\"padding-left: 1em; padding-right: 1em; text-align: center\">linear_terms</th>\n",
        "        <th style=\"padding-left: 1em; padding-right: 1em; text-align: center\">factors</th>\n",
        "    </tr>\n",
        "    <tr>\n",
        "        <td style=\"padding-left: 1em; padding-right: 1em; text-align: center; vertical-align: top\">661140</td>\n",
        "        <td style=\"padding-left: 1em; padding-right: 1em; text-align: center; vertical-align: top\">0.0359837137749</td>\n",
        "        <td style=\"padding-left: 1em; padding-right: 1em; text-align: center; vertical-align: top\">array('d',<br>[-0.02639200164884102 ...</td>\n",
        "    </tr>\n",
        "    <tr>\n",
        "        <td style=\"padding-left: 1em; padding-right: 1em; text-align: center; vertical-align: top\">739736</td>\n",
        "        <td style=\"padding-left: 1em; padding-right: 1em; text-align: center; vertical-align: top\">0.0250947367472</td>\n",
        "        <td style=\"padding-left: 1em; padding-right: 1em; text-align: center; vertical-align: top\">array('d',<br>[-0.00484620228349407 ...</td>\n",
        "    </tr>\n",
        "    <tr>\n",
        "        <td style=\"padding-left: 1em; padding-right: 1em; text-align: center; vertical-align: top\">515160</td>\n",
        "        <td style=\"padding-left: 1em; padding-right: 1em; text-align: center; vertical-align: top\">0.219197197405</td>\n",
        "        <td style=\"padding-left: 1em; padding-right: 1em; text-align: center; vertical-align: top\">array('d',<br>[-0.10280135483013852 ...</td>\n",
        "    </tr>\n",
        "    <tr>\n",
        "        <td style=\"padding-left: 1em; padding-right: 1em; text-align: center; vertical-align: top\">786238</td>\n",
        "        <td style=\"padding-left: 1em; padding-right: 1em; text-align: center; vertical-align: top\">0.760472546583</td>\n",
        "        <td style=\"padding-left: 1em; padding-right: 1em; text-align: center; vertical-align: top\">array('d',<br>[-0.197417297264476, ...</td>\n",
        "    </tr>\n",
        "    <tr>\n",
        "        <td style=\"padding-left: 1em; padding-right: 1em; text-align: center; vertical-align: top\">657536</td>\n",
        "        <td style=\"padding-left: 1em; padding-right: 1em; text-align: center; vertical-align: top\">0.055452378386</td>\n",
        "        <td style=\"padding-left: 1em; padding-right: 1em; text-align: center; vertical-align: top\">array('d',<br>[-0.05792641369979519 ...</td>\n",
        "    </tr>\n",
        "    <tr>\n",
        "        <td style=\"padding-left: 1em; padding-right: 1em; text-align: center; vertical-align: top\">740293</td>\n",
        "        <td style=\"padding-left: 1em; padding-right: 1em; text-align: center; vertical-align: top\">-0.0237336669845</td>\n",
        "        <td style=\"padding-left: 1em; padding-right: 1em; text-align: center; vertical-align: top\">array('d',<br>[0.0157849293946145, ...</td>\n",
        "    </tr>\n",
        "    <tr>\n",
        "        <td style=\"padding-left: 1em; padding-right: 1em; text-align: center; vertical-align: top\">155005</td>\n",
        "        <td style=\"padding-left: 1em; padding-right: 1em; text-align: center; vertical-align: top\">0.168088582927</td>\n",
        "        <td style=\"padding-left: 1em; padding-right: 1em; text-align: center; vertical-align: top\">array('d',<br>[0.05390113107566852, ...</td>\n",
        "    </tr>\n",
        "    <tr>\n",
        "        <td style=\"padding-left: 1em; padding-right: 1em; text-align: center; vertical-align: top\">722508</td>\n",
        "        <td style=\"padding-left: 1em; padding-right: 1em; text-align: center; vertical-align: top\">0.190958829</td>\n",
        "        <td style=\"padding-left: 1em; padding-right: 1em; text-align: center; vertical-align: top\">array('d',<br>[0.32566844249048177, ...</td>\n",
        "    </tr>\n",
        "    <tr>\n",
        "        <td style=\"padding-left: 1em; padding-right: 1em; text-align: center; vertical-align: top\">1632716</td>\n",
        "        <td style=\"padding-left: 1em; padding-right: 1em; text-align: center; vertical-align: top\">-0.106518315658</td>\n",
        "        <td style=\"padding-left: 1em; padding-right: 1em; text-align: center; vertical-align: top\">array('d',<br>[0.07054986605555998, ...</td>\n",
        "    </tr>\n",
        "    <tr>\n",
        "        <td style=\"padding-left: 1em; padding-right: 1em; text-align: center; vertical-align: top\">1294775</td>\n",
        "        <td style=\"padding-left: 1em; padding-right: 1em; text-align: center; vertical-align: top\">0.0646352792969</td>\n",
        "        <td style=\"padding-left: 1em; padding-right: 1em; text-align: center; vertical-align: top\">array('d',<br>[0.1815547812797783, ...</td>\n",
        "    </tr>\n",
        "    <tr>\n",
        "        <td style=\"padding-left: 1em; padding-right: 1em; text-align: center; vertical-align: top\">...</td>\n",
        "        <td style=\"padding-left: 1em; padding-right: 1em; text-align: center; vertical-align: top\">...</td>\n",
        "        <td style=\"padding-left: 1em; padding-right: 1em; text-align: center; vertical-align: top\">...</td>\n",
        "    </tr>\n",
        "</table>\n",
        "[656074 rows x 3 columns]<br/>Note: Only the head of the SFrame is printed.<br/>You can use print_rows(num_rows=m, num_columns=n) to print more rows and columns.\n",
        "</div>"
       ],
       "metadata": {},
       "output_type": "pyout",
       "prompt_number": 43,
       "text": [
        "Columns:\n",
        "\tOwnerUserId\tstr\n",
        "\tlinear_terms\tfloat\n",
        "\tfactors\tarray\n",
        "\n",
        "Rows: 656074\n",
        "\n",
        "Data:\n",
        "+-------------+------------------+--------------------------------+\n",
        "| OwnerUserId |   linear_terms   |            factors             |\n",
        "+-------------+------------------+--------------------------------+\n",
        "|    661140   | 0.0359837137749  | array('d', [-0.02639200164 ... |\n",
        "|    739736   | 0.0250947367472  | array('d', [-0.00484620228 ... |\n",
        "|    515160   |  0.219197197405  | array('d', [-0.10280135483 ... |\n",
        "|    786238   |  0.760472546583  | array('d', [-0.19741729726 ... |\n",
        "|    657536   |  0.055452378386  | array('d', [-0.05792641369 ... |\n",
        "|    740293   | -0.0237336669845 | array('d', [0.015784929394 ... |\n",
        "|    155005   |  0.168088582927  | array('d', [0.053901131075 ... |\n",
        "|    722508   |   0.190958829    | array('d', [0.325668442490 ... |\n",
        "|   1632716   | -0.106518315658  | array('d', [0.070549866055 ... |\n",
        "|   1294775   | 0.0646352792969  | array('d', [0.181554781279 ... |\n",
        "|     ...     |       ...        |              ...               |\n",
        "+-------------+------------------+--------------------------------+\n",
        "[656074 rows x 3 columns]\n",
        "Note: Only the head of the SFrame is printed.\n",
        "You can use print_rows(num_rows=m, num_columns=n) to print more rows and columns."
       ]
      }
     ],
     "prompt_number": 43
    },
    {
     "cell_type": "markdown",
     "metadata": {},
     "source": [
      "Compare the predictive performance of the two models on the test set. Given the ability to make 10 recommendations, which model predicted the highest proportion of items in the test set (on average)?  **Hint**: use [compare_models()](http://graphlab.com/products/create/docs/generated/graphlab.recommender.compare_models.html#graphlab.recommender.compare_models)."
     ]
    },
    {
     "cell_type": "code",
     "collapsed": false,
     "input": [
      "results = gl.recommender.compare_models(test, [m1, m2], metric='precision_recall')"
     ],
     "language": "python",
     "metadata": {},
     "outputs": [
      {
       "output_type": "stream",
       "stream": "stdout",
       "text": [
        "PROGRESS: Evaluate model M0\n",
        "\n",
        "Precision and recall summary statistics by cutoff"
       ]
      },
      {
       "output_type": "stream",
       "stream": "stdout",
       "text": [
        "\n",
        "+--------+-----------------+-----------------+\n",
        "| cutoff |  mean_precision |   mean_recall   |\n",
        "+--------+-----------------+-----------------+\n",
        "|   2    |      0.084      | 0.0733218486299 |\n",
        "|   4    |      0.0704     |  0.118921376813 |\n",
        "|   6    |      0.0576     |  0.149673648798 |\n",
        "|   8    |      0.0512     |  0.174215324734 |\n",
        "|   10   |     0.04624     |  0.188367497506 |\n",
        "|   12   | 0.0421333333333 |  0.204878098117 |\n",
        "|   14   | 0.0393142857143 |  0.220486196412 |\n",
        "|   16   |      0.0358     |  0.232353315056 |\n",
        "|   18   | 0.0335111111111 |  0.247422521405 |\n",
        "|   20   |     0.03232     |  0.263166675659 |\n",
        "+--------+-----------------+-----------------+\n",
        "[10 rows x 3 columns]\n",
        "\n",
        "PROGRESS: Evaluate model M1\n",
        "\n",
        "Precision and recall summary statistics by cutoff"
       ]
      },
      {
       "output_type": "stream",
       "stream": "stdout",
       "text": [
        "\n",
        "+--------+-----------------+-----------------+\n",
        "| cutoff |  mean_precision |   mean_recall   |\n",
        "+--------+-----------------+-----------------+\n",
        "|   2    |      0.0784     | 0.0672177534245 |\n",
        "|   4    |      0.0524     | 0.0882305739373 |\n",
        "|   6    | 0.0418666666667 |  0.102382053427 |\n",
        "|   8    |      0.036      |  0.117243212921 |\n",
        "|   10   |     0.03088     |  0.127589879587 |\n",
        "|   12   | 0.0278666666667 |  0.137665794011 |\n",
        "|   14   | 0.0250285714286 |  0.144315317821 |\n",
        "|   16   |      0.023      |  0.151958367201 |\n",
        "|   18   | 0.0217777777778 |  0.159424041526 |\n",
        "|   20   |     0.02072     |  0.168595392054 |\n",
        "+--------+-----------------+-----------------+\n",
        "[10 rows x 3 columns]\n",
        "\n"
       ]
      },
      {
       "output_type": "stream",
       "stream": "stderr",
       "text": [
        "/usr/lib/pymodules/python2.7/matplotlib/figure.py:362: UserWarning: matplotlib is currently using a non-GUI backend, so cannot show the figure\n",
        "  \"matplotlib is currently using a non-GUI backend, \"\n"
       ]
      },
      {
       "metadata": {},
       "output_type": "display_data",
       "png": "[encoded data removed]",
       "text": [
        "<matplotlib.figure.Figure at 0x7fbd3c045cd0>"
       ]
      }
     ],
     "prompt_number": 44
    },
    {
     "cell_type": "heading",
     "level": 1,
     "metadata": {},
     "source": [
      "III. Analyzing text with GraphLab Create"
     ]
    },
    {
     "cell_type": "markdown",
     "metadata": {},
     "source": [
      "The data for this exercise is culled from [Wikipedia's Database Download](http://en.wikipedia.org/wiki/Wikipedia:Database_download). Wikipedia's text and many of its images are co-licensed under the [Creative Commons Attribution-Sharealike 3.0 Unported License (CC-BY-SA)](http://creativecommons.org/licenses/by-sa/2.5/)."
     ]
    },
    {
     "cell_type": "markdown",
     "metadata": {},
     "source": [
      "Load the first Wikipedia text file called \"wikipedia/w1\", found in the data directory. Each line in the file represents a single document and there is no header line. Name the variable `documents`."
     ]
    },
    {
     "cell_type": "code",
     "collapsed": false,
     "input": [
      "documents = gl.SFrame.read_csv('./data/wikipedia/w1', header=False)"
     ],
     "language": "python",
     "metadata": {},
     "outputs": [
      {
       "html": [
        "<pre>PROGRESS: Finished parsing file /home/alicez/gerrit/projects/graphlab-exercises/data/wikipedia/w1</pre>"
       ],
       "metadata": {},
       "output_type": "display_data",
       "text": [
        "PROGRESS: Finished parsing file /home/alicez/gerrit/projects/graphlab-exercises/data/wikipedia/w1"
       ]
      },
      {
       "html": [
        "<pre>PROGRESS: Parsing completed. Parsed 100 lines in 0.061402 secs.</pre>"
       ],
       "metadata": {},
       "output_type": "display_data",
       "text": [
        "PROGRESS: Parsing completed. Parsed 100 lines in 0.061402 secs."
       ]
      },
      {
       "html": [
        "<pre>PROGRESS: Read 12918 lines. Lines per second: 47443.6</pre>"
       ],
       "metadata": {},
       "output_type": "display_data",
       "text": [
        "PROGRESS: Read 12918 lines. Lines per second: 47443.6"
       ]
      },
      {
       "html": [
        "<pre>PROGRESS: Finished parsing file /home/alicez/gerrit/projects/graphlab-exercises/data/wikipedia/w1</pre>"
       ],
       "metadata": {},
       "output_type": "display_data",
       "text": [
        "PROGRESS: Finished parsing file /home/alicez/gerrit/projects/graphlab-exercises/data/wikipedia/w1"
       ]
      },
      {
       "html": [
        "<pre>PROGRESS: Parsing completed. Parsed 72270 lines in 0.681557 secs.</pre>"
       ],
       "metadata": {},
       "output_type": "display_data",
       "text": [
        "PROGRESS: Parsing completed. Parsed 72270 lines in 0.681557 secs."
       ]
      },
      {
       "output_type": "stream",
       "stream": "stdout",
       "text": [
        "------------------------------------------------------\n",
        "Inferred types from first line of file as \n",
        "column_type_hints=[str]\n",
        "If parsing fails due to incorrect types, you can correct\n",
        "the inferred type list above and pass it to read_csv in\n",
        "the column_type_hints argument\n",
        "------------------------------------------------------\n"
       ]
      }
     ],
     "prompt_number": 45
    },
    {
     "cell_type": "markdown",
     "metadata": {},
     "source": [
      "<span style=\"color:red\">**Question 1:**</span> Create an [SArray](http://graphlab.com/products/create/docs/generated/graphlab.SArray.html#graphlab.SArray) that represents the documents in \"bag-of-words format\", where each element of the SArray is a dictionary with each unique word as a key and the number of occurrences is the value. *Hint*: look at the SArray method [count_words](http://graphlab.com/products/create/docs/generated/graphlab.SArray.count_words.html)."
     ]
    },
    {
     "cell_type": "code",
     "collapsed": false,
     "input": [
      "bow = documents['X1'].count_words()"
     ],
     "language": "python",
     "metadata": {},
     "outputs": [],
     "prompt_number": 93
    },
    {
     "cell_type": "markdown",
     "metadata": {},
     "source": [
      "<span style=\"color:red\">**Question 2:**</span> Create a trimmed version of this dataset that excludes all words in each document that occur just once."
     ]
    },
    {
     "cell_type": "code",
     "collapsed": false,
     "input": [
      "docs = bow.dict_trim_by_values(2)"
     ],
     "language": "python",
     "metadata": {},
     "outputs": [],
     "prompt_number": 94
    },
    {
     "cell_type": "markdown",
     "metadata": {},
     "source": [
      "<span style=\"color:red\">**Question 3:**</span> Remove all stopwords from the dataset. *Hint*: you'll find a predefined set of stopwords in [graphlab.text.stopwords](http://graphlab.com/products/create/docs/generated/graphlab.text.util.stopwords.html#graphlab.text.util.stopwords)."
     ]
    },
    {
     "cell_type": "code",
     "collapsed": false,
     "input": [
      "docs = docs.dict_trim_by_keys(gl.text.stopwords(), exclude=True)"
     ],
     "language": "python",
     "metadata": {},
     "outputs": [],
     "prompt_number": 49
    },
    {
     "cell_type": "markdown",
     "metadata": {},
     "source": [
      "<span style=\"color:red\">**Question 4:**</span> Remove all documents from `docs` and `documents` that now have fewer than 10 unique words. *Hint*: You can use SArray's [logical filter](http://graphlab.com/products/create/docs/generated/graphlab.SArray.__getitem__.html)."
     ]
    },
    {
     "cell_type": "code",
     "collapsed": true,
     "input": [
      "ix = docs.apply(lambda x: len(x.keys()) >= 10)\n",
      "docs = docs[ix]\n",
      "documents = documents[ix]"
     ],
     "language": "python",
     "metadata": {},
     "outputs": [],
     "prompt_number": 50
    },
    {
     "cell_type": "markdown",
     "metadata": {},
     "source": [
      "<span style=\"color:red\">**Question 5:**</span> What proportion of documents have we removed from the dataset?"
     ]
    },
    {
     "cell_type": "code",
     "collapsed": true,
     "input": [
      "1 - ix.mean()"
     ],
     "language": "python",
     "metadata": {},
     "outputs": [
      {
       "metadata": {},
       "output_type": "pyout",
       "prompt_number": 51,
       "text": [
        "0.4808772658087729"
       ]
      }
     ],
     "prompt_number": 51
    },
    {
     "cell_type": "heading",
     "level": 3,
     "metadata": {},
     "source": [
      "Topic Modeling"
     ]
    },
    {
     "cell_type": "markdown",
     "metadata": {},
     "source": [
      "<span style=\"color:red\">**Question 6:**</span> Create a topic model using your processed version of the dataset, `docs`. Have the model learn 30 topics and let the algorithm run for 30 iterations. *Hint*: use [topic_model.create()](http://graphlab.com/products/create/docs/generated/graphlab.text.topic_model.create.html#graphlab.text.topic_model.create)."
     ]
    },
    {
     "cell_type": "code",
     "collapsed": false,
     "input": [
      "m = gl.topic_model.create(docs, num_topics=30, num_iterations=30)"
     ],
     "language": "python",
     "metadata": {},
     "outputs": [
      {
       "html": [
        "<pre>PROGRESS: Running collapsed Gibbs sampling</pre>"
       ],
       "metadata": {},
       "output_type": "display_data",
       "text": [
        "PROGRESS: Running collapsed Gibbs sampling"
       ]
      },
      {
       "html": [
        "<pre>PROGRESS:  Iteration Tokens/second Seconds/iter Perplexity</pre>"
       ],
       "metadata": {},
       "output_type": "display_data",
       "text": [
        "PROGRESS:  Iteration Tokens/second Seconds/iter Perplexity"
       ]
      },
      {
       "html": [
        "<pre>PROGRESS:         10        369680     0.541101    6045.16</pre>"
       ],
       "metadata": {},
       "output_type": "display_data",
       "text": [
        "PROGRESS:         10        369680     0.541101    6045.16"
       ]
      },
      {
       "html": [
        "<pre>PROGRESS:         20        313464     0.626735    5184.18</pre>"
       ],
       "metadata": {},
       "output_type": "display_data",
       "text": [
        "PROGRESS:         20        313464     0.626735    5184.18"
       ]
      },
      {
       "html": [
        "<pre>PROGRESS:         30        307149       0.6395    4776.88</pre>"
       ],
       "metadata": {},
       "output_type": "display_data",
       "text": [
        "PROGRESS:         30        307149       0.6395    4776.88"
       ]
      }
     ],
     "prompt_number": 52
    },
    {
     "cell_type": "markdown",
     "metadata": {},
     "source": [
      "<span style=\"color:red\">**Question 7:**</span> Print information about the model."
     ]
    },
    {
     "cell_type": "code",
     "collapsed": false,
     "input": [
      "m"
     ],
     "language": "python",
     "metadata": {},
     "outputs": [
      {
       "metadata": {},
       "output_type": "pyout",
       "prompt_number": 53,
       "text": [
        "Topic Model\n",
        "  Data:\n",
        "      Vocabulary size:     159084\n",
        "  Settings:\n",
        "      Number of topics:    30\n",
        "      alpha:               1.66666666667\n",
        "      beta:                0.1\n",
        "      Iterations:          30\n",
        "      Verbose:             False\n",
        "  Accessible fields:\n",
        "      m['topics']          An SFrame containing the topics.\n",
        "      m['vocabulary']      An SArray containing the topics.\n",
        "  Useful methods:\n",
        "      m.get_topics()       Get the most probable words per topic.\n",
        "      m.predict(new_docs)  Make predictions for new documents."
       ]
      }
     ],
     "prompt_number": 53
    },
    {
     "cell_type": "markdown",
     "metadata": {},
     "source": [
      "<span style=\"color:red\">**Question 8:**</span> Find out how many words the model has used while learning the topic model."
     ]
    },
    {
     "cell_type": "code",
     "collapsed": false,
     "input": [
      "len(m['vocabulary'])"
     ],
     "language": "python",
     "metadata": {},
     "outputs": [
      {
       "metadata": {},
       "output_type": "pyout",
       "prompt_number": 54,
       "text": [
        "159084"
       ]
      }
     ],
     "prompt_number": 54
    },
    {
     "cell_type": "markdown",
     "metadata": {},
     "source": [
      "Use the following code to get the top 10 most probable words in each topic. Typically we hope that each list is a cohesive set of words, one that represents a general cluster of topics present in the dataset."
     ]
    },
    {
     "cell_type": "code",
     "collapsed": false,
     "input": [
      "topics = m.get_topics(num_words=10).unstack(['word','score'], new_column_name='topic_words')['topic_words'].apply(lambda x: x.keys())\n",
      "for topic in topics:\n",
      "    print topic"
     ],
     "language": "python",
     "metadata": {},
     "outputs": [
      {
       "output_type": "stream",
       "stream": "stdout",
       "text": [
        "['town', 'living', 'people', '18', 'age', 'median', 'years', 'income', 'average', 'population']\n",
        "['league', 'made', 'played', 'club', 'season', 'football', 'teams', 'won', 'team', 'world']\n",
        "['irish', 'mexico', 'san', 'la', 'de', 'french', 'france', 'spanish', 'ireland', 'african']\n",
        "['force', 'army', 'ships', 'general', 'command', 'forces', 'battle', 'military', 'ship', 'war']\n",
        "['school', 'students', 'science', 'university', 'research', 'high', 'state', 'college', 'schools', 'education']\n",
        "['world', 'group', 'family', 'people', 'day', 'london', 'members', 'time', 'police', 'children']\n",
        "['engine', 'power', 'airport', 'air', 'aircraft', 'production', 'design', 'time', 'model', 'class']\n",
        "['north', 'government', 'west', 'area', 'virginia', 'county', 'state', 'minister', 'party', 'river']\n",
        "['made', 'group', 'museum', 'time', 'collection', 'magazine', 'york', 'published', 'art', 'work']\n",
        "['king', 'death', 'wife', 'house', 'married', 'father', 'son', 'church', 'john', 'died']\n",
        "['play', 'played', 'season', 'players', 'player', 'game', 'won', 'games', 'team', 'match']\n",
        "['information', 'project', 'system', 'access', 'computer', 'systems', 'internet', 'white', 'data', 'software']\n",
        "['love', 'world', 'end', 'family', 'character', 'back', 'book', 'time', 'episode', 'man']\n",
        "['israel', 'jews', 'jewish', 'god', 'work', 'life', 'book', 'human', 'called', 'women']\n",
        "['theatre', 'played', 'festival', 'show', 'band', 'music', 'rock', 'release', 'role', 'film']\n",
        "['german', 'company', 'million', 'royal', 'years', 'part', 'germany', 'world', 'works', 'von']\n",
        "['north', 'island', 'route', 'park', 'part', 'station', 'line', 'east', 'railway', 'south']\n",
        "['set', 'based', 'system', 'space', 'series', 'number', 'called', '1', 'time', 'original']\n",
        "['album', 'song', 'recorded', 'tour', 'records', 'single', 'version', 'video', 'released', 'songs']\n",
        "['water', 'gas', 'long', 'large', 'black', 'small', 'found', 'river', 'species', 'areas']\n",
        "['states', 'government', 'federal', 'national', 'member', 'elected', 'election', 'council', 'president', 'public']\n",
        "['division', 'national', 'year', '2006', '2007', '2005', 'place', '2008', '2009', '2010']\n",
        "['television', 'show', 'car', 'company', 'station', 'radio', 'series', 'films', 'news', 'film']\n",
        "['case', 'made', 'court', 'justice', 'political', 'years', 'trial', 'race', 'party', 'italian']\n",
        "['information', 'form', 'language', 'study', 'work', 'research', 'common', 'social', 'found', 'theory']\n",
        "['made', 'form', 'point', 'process', 'energy', 'system', 'surface', '3', '2', 'section']\n",
        "['development', 'program', 'chinese', 'national', 'year', 'india', 'indian', 'china', 'world', 'international']\n",
        "['century', 'people', 'modern', 'period', 'early', 'society', 'time', 'english', 'works', 'published']\n",
        "['building', 'city', 'built', 'area', 'house', 'town', 'located', 'west', 'local', 'road']\n",
        "['united', 'union', 'political', 'british', 'states', 'american', 'law', 'soviet', 'war', 'south']\n"
       ]
      }
     ],
     "prompt_number": 55
    },
    {
     "cell_type": "markdown",
     "metadata": {},
     "source": [
      "<span style=\"color:red\">**Question 9:**</span> Predict the topic for the first 5 documents in `docs`."
     ]
    },
    {
     "cell_type": "code",
     "collapsed": false,
     "input": [
      "m.predict(docs[:5])"
     ],
     "language": "python",
     "metadata": {},
     "outputs": [
      {
       "metadata": {},
       "output_type": "pyout",
       "prompt_number": 56,
       "text": [
        "dtype: int\n",
        "Rows: 5\n",
        "[4, 15, 17, 15, 8]"
       ]
      }
     ],
     "prompt_number": 56
    },
    {
     "cell_type": "markdown",
     "metadata": {},
     "source": [
      "Sometimes it is useful to manually fix words to be associated with a particular topic. For this we can use the `associations` argument.\n",
      "\n",
      "<span style=\"color:red\">**Question 10:**</span> Create a new topic model that uses the following SFrame which will associate the words \"law\", \"court\", and \"business\" to topic 0. Use `verbose=False`, 30 topics, and let the algorithm run for 20 iterations."
     ]
    },
    {
     "cell_type": "code",
     "collapsed": false,
     "input": [
      "fixed_associations = gl.SFrame()\n",
      "fixed_associations['word'] = ['law', 'court', 'business']\n",
      "fixed_associations['topic'] = 0\n",
      "m2 = gl.topic_model.create(docs,  \n",
      "                            associations=fixed_associations,\n",
      "                            num_topics=30, verbose=False, num_iterations=20)"
     ],
     "language": "python",
     "metadata": {},
     "outputs": [
      {
       "html": [
        "<pre>PROGRESS: Running collapsed Gibbs sampling</pre>"
       ],
       "metadata": {},
       "output_type": "display_data",
       "text": [
        "PROGRESS: Running collapsed Gibbs sampling"
       ]
      },
      {
       "html": [
        "<pre>PROGRESS:  Iteration Tokens/second Seconds/iter Perplexity</pre>"
       ],
       "metadata": {},
       "output_type": "display_data",
       "text": [
        "PROGRESS:  Iteration Tokens/second Seconds/iter Perplexity"
       ]
      },
      {
       "html": [
        "<pre>PROGRESS:         10        363654     0.548891    6025.18</pre>"
       ],
       "metadata": {},
       "output_type": "display_data",
       "text": [
        "PROGRESS:         10        363654     0.548891    6025.18"
       ]
      },
      {
       "html": [
        "<pre>PROGRESS:         20        312792     0.627813    5218.15</pre>"
       ],
       "metadata": {},
       "output_type": "display_data",
       "text": [
        "PROGRESS:         20        312792     0.627813    5218.15"
       ]
      }
     ],
     "prompt_number": 57
    },
    {
     "cell_type": "markdown",
     "metadata": {},
     "source": [
      "<span style=\"color:red\">**Question 11:**</span> Get the top 20 most likely words for topic 0. Ideally, we will see the words \"law\", \"court\", and \"business\". What other words appear to be related to this topic?"
     ]
    },
    {
     "cell_type": "code",
     "collapsed": false,
     "input": [
      "m2.get_topics([0], num_words=20)"
     ],
     "language": "python",
     "metadata": {},
     "outputs": [
      {
       "html": [
        "<div style=\"max-height:1000px;max-width:1500px;overflow:auto;\"><table frame=\"box\" rules=\"cols\">\n",
        "    <tr>\n",
        "        <th style=\"padding-left: 1em; padding-right: 1em; text-align: center\">topic</th>\n",
        "        <th style=\"padding-left: 1em; padding-right: 1em; text-align: center\">word</th>\n",
        "        <th style=\"padding-left: 1em; padding-right: 1em; text-align: center\">score</th>\n",
        "    </tr>\n",
        "    <tr>\n",
        "        <td style=\"padding-left: 1em; padding-right: 1em; text-align: center; vertical-align: top\">0</td>\n",
        "        <td style=\"padding-left: 1em; padding-right: 1em; text-align: center; vertical-align: top\">law</td>\n",
        "        <td style=\"padding-left: 1em; padding-right: 1em; text-align: center; vertical-align: top\">0.0180831843104</td>\n",
        "    </tr>\n",
        "    <tr>\n",
        "        <td style=\"padding-left: 1em; padding-right: 1em; text-align: center; vertical-align: top\">0</td>\n",
        "        <td style=\"padding-left: 1em; padding-right: 1em; text-align: center; vertical-align: top\">court</td>\n",
        "        <td style=\"padding-left: 1em; padding-right: 1em; text-align: center; vertical-align: top\">0.0166175876525</td>\n",
        "    </tr>\n",
        "    <tr>\n",
        "        <td style=\"padding-left: 1em; padding-right: 1em; text-align: center; vertical-align: top\">0</td>\n",
        "        <td style=\"padding-left: 1em; padding-right: 1em; text-align: center; vertical-align: top\">states</td>\n",
        "        <td style=\"padding-left: 1em; padding-right: 1em; text-align: center; vertical-align: top\">0.0144715354034</td>\n",
        "    </tr>\n",
        "    <tr>\n",
        "        <td style=\"padding-left: 1em; padding-right: 1em; text-align: center; vertical-align: top\">0</td>\n",
        "        <td style=\"padding-left: 1em; padding-right: 1em; text-align: center; vertical-align: top\">business</td>\n",
        "        <td style=\"padding-left: 1em; padding-right: 1em; text-align: center; vertical-align: top\">0.0122885353393</td>\n",
        "    </tr>\n",
        "    <tr>\n",
        "        <td style=\"padding-left: 1em; padding-right: 1em; text-align: center; vertical-align: top\">0</td>\n",
        "        <td style=\"padding-left: 1em; padding-right: 1em; text-align: center; vertical-align: top\">national</td>\n",
        "        <td style=\"padding-left: 1em; padding-right: 1em; text-align: center; vertical-align: top\">0.0119406100823</td>\n",
        "    </tr>\n",
        "    <tr>\n",
        "        <td style=\"padding-left: 1em; padding-right: 1em; text-align: center; vertical-align: top\">0</td>\n",
        "        <td style=\"padding-left: 1em; padding-right: 1em; text-align: center; vertical-align: top\">federal</td>\n",
        "        <td style=\"padding-left: 1em; padding-right: 1em; text-align: center; vertical-align: top\">0.00737447595681</td>\n",
        "    </tr>\n",
        "    <tr>\n",
        "        <td style=\"padding-left: 1em; padding-right: 1em; text-align: center; vertical-align: top\">0</td>\n",
        "        <td style=\"padding-left: 1em; padding-right: 1em; text-align: center; vertical-align: top\">case</td>\n",
        "        <td style=\"padding-left: 1em; padding-right: 1em; text-align: center; vertical-align: top\">0.00730365931157</td>\n",
        "    </tr>\n",
        "    <tr>\n",
        "        <td style=\"padding-left: 1em; padding-right: 1em; text-align: center; vertical-align: top\">0</td>\n",
        "        <td style=\"padding-left: 1em; padding-right: 1em; text-align: center; vertical-align: top\">system</td>\n",
        "        <td style=\"padding-left: 1em; padding-right: 1em; text-align: center; vertical-align: top\">0.00695881303911</td>\n",
        "    </tr>\n",
        "    <tr>\n",
        "        <td style=\"padding-left: 1em; padding-right: 1em; text-align: center; vertical-align: top\">0</td>\n",
        "        <td style=\"padding-left: 1em; padding-right: 1em; text-align: center; vertical-align: top\">market</td>\n",
        "        <td style=\"padding-left: 1em; padding-right: 1em; text-align: center; vertical-align: top\">0.00693726014708</td>\n",
        "    </tr>\n",
        "    <tr>\n",
        "        <td style=\"padding-left: 1em; padding-right: 1em; text-align: center; vertical-align: top\">0</td>\n",
        "        <td style=\"padding-left: 1em; padding-right: 1em; text-align: center; vertical-align: top\">political</td>\n",
        "        <td style=\"padding-left: 1em; padding-right: 1em; text-align: center; vertical-align: top\">0.00672788919595</td>\n",
        "    </tr>\n",
        "    <tr>\n",
        "        <td style=\"padding-left: 1em; padding-right: 1em; text-align: center; vertical-align: top\">...</td>\n",
        "        <td style=\"padding-left: 1em; padding-right: 1em; text-align: center; vertical-align: top\">...</td>\n",
        "        <td style=\"padding-left: 1em; padding-right: 1em; text-align: center; vertical-align: top\">...</td>\n",
        "    </tr>\n",
        "</table>\n",
        "[20 rows x 3 columns]<br/>Note: Only the head of the SFrame is printed.<br/>You can use print_rows(num_rows=m, num_columns=n) to print more rows and columns.\n",
        "</div>"
       ],
       "metadata": {},
       "output_type": "pyout",
       "prompt_number": 58,
       "text": [
        "Columns:\n",
        "\ttopic\tint\n",
        "\tword\tstr\n",
        "\tscore\tfloat\n",
        "\n",
        "Rows: 20\n",
        "\n",
        "Data:\n",
        "+-------+-----------+------------------+\n",
        "| topic |    word   |      score       |\n",
        "+-------+-----------+------------------+\n",
        "|   0   |    law    | 0.0180831843104  |\n",
        "|   0   |   court   | 0.0166175876525  |\n",
        "|   0   |   states  | 0.0144715354034  |\n",
        "|   0   |  business | 0.0122885353393  |\n",
        "|   0   |  national | 0.0119406100823  |\n",
        "|   0   |  federal  | 0.00737447595681 |\n",
        "|   0   |    case   | 0.00730365931157 |\n",
        "|   0   |   system  | 0.00695881303911 |\n",
        "|   0   |   market  | 0.00693726014708 |\n",
        "|   0   | political | 0.00672788919595 |\n",
        "|  ...  |    ...    |       ...        |\n",
        "+-------+-----------+------------------+\n",
        "[20 rows x 3 columns]\n",
        "Note: Only the head of the SFrame is printed.\n",
        "You can use print_rows(num_rows=m, num_columns=n) to print more rows and columns."
       ]
      }
     ],
     "prompt_number": 58
    },
    {
     "cell_type": "markdown",
     "metadata": {},
     "source": [
      "In addition to the SArray dictionary and word utility functions, there are a number of useful [text processing functions](http://graphlab.com/products/create/docs/graphlab.toolkits.text.html#utilities).  Check them out!"
     ]
    },
    {
     "cell_type": "heading",
     "level": 1,
     "metadata": {},
     "source": [
      "IV. Counting words in Wikipedia using GraphLab Jobs & Tasks"
     ]
    },
    {
     "cell_type": "markdown",
     "metadata": {},
     "source": [
      "GraphLab has a [data pipeline framework](http://graphlab.com/products/create/docs/generated/graphlab.SFrame.deploy.html) that can facilitate deploying data products to EC2 or Hadoop where your complete data sets may reside. Let's revisit some of the functionality above to demonstrate how you might compute word counts for all words in the corpus Wikipedia articles. The first thing we'll do is define a Task for reading in the input data and getting word counts for each document."
     ]
    },
    {
     "cell_type": "code",
     "collapsed": false,
     "input": [
      "from graphlab.deploy import Task\n",
      "\n",
      "def ingest(task):\n",
      "    raw_data_path = task.params[\"raw_data_path\"]\n",
      "    wiki_sf = gl.SFrame.read_csv(raw_data_path, header=False)\n",
      "    wiki_sf[\"word_counts\"] = wiki_sf['X1'].count_words()\n",
      "    task.outputs[\"wiki_sf\"] = wiki_sf\n",
      "\n",
      "ingest_task = Task(\"ingest\")\n",
      "ingest_task.set_code(ingest)\n",
      "ingest_task.set_params([\"raw_data_path\"])\n",
      "ingest_task.set_outputs([\"wiki_sf\"])"
     ],
     "language": "python",
     "metadata": {},
     "outputs": [
      {
       "metadata": {},
       "output_type": "pyout",
       "prompt_number": 78,
       "text": [
        "Task: ingest\n",
        "\n",
        "Description:\n",
        "\t\n",
        "\n",
        "Input(s):\n",
        "\t{}\n",
        "\n",
        "Code:\n",
        "\n",
        "def ingest(task):\n",
        "    raw_data_path = task.params[\"raw_data_path\"]\n",
        "    wiki_sf = gl.SFrame.read_csv(raw_data_path, header=False)\n",
        "    wiki_sf[\"word_counts\"] = wiki_sf['X1'].count_words()\n",
        "    task.outputs[\"wiki_sf\"] = wiki_sf\n",
        "\n",
        "\n",
        "Output(s):\n",
        "\t{'wiki_sf': None}\n",
        "\n",
        "Parameter(s):\n",
        "\t{'raw_data_path': None}\n",
        "\n",
        "Package(s):\n",
        "\tset([])\n"
       ]
      }
     ],
     "prompt_number": 78
    },
    {
     "cell_type": "markdown",
     "metadata": {},
     "source": [
      "<span style=\"color:red\">**Question 12:**</span> Now that you have a sense of the [Task API](http://graphlab.com/products/create/docs/generated/graphlab.deploy.Task.html), see if you can write yet another task that will both a) filter out stopwords and b) aggregate counts for the entire corpus. *Hint*: have a look at the flat_map and and group_by methods on [SFrame](http://graphlab.com/products/create/docs/generated/graphlab.SFrame.html)."
     ]
    },
    {
     "cell_type": "code",
     "collapsed": false,
     "input": [
      "def count_words(task):\n",
      "    wiki_sf = task.inputs[\"wiki_sf\"]\n",
      "    wiki_sf[\"wc_stop_filtered\"] = wiki_sf[\"word_counts\"].dict_trim_by_keys(\n",
      "        gl.text.stopwords(), exclude=True)\n",
      "    word_counts = wiki_sf.flat_map([\"word\", \"count\"], \n",
      "                                    lambda x: [list(p) for p in x['wc_stop_filtered'].iteritems()])\n",
      "    word_counts = word_counts.groupby(key_columns=[\"word\"], \n",
      "                                      operations={'total_count':gl.aggregate.SUM(\"count\")})\n",
      "    task.outputs[\"word_counts\"] = word_counts\n",
      "\n",
      "count_words_task = Task(\"count_words\")\n",
      "count_words_task.set_code(count_words)\n",
      "count_words_task.set_inputs([\"wiki_sf\"])\n",
      "count_words_task.set_outputs([\"word_counts\"])"
     ],
     "language": "python",
     "metadata": {},
     "outputs": [
      {
       "metadata": {},
       "output_type": "pyout",
       "prompt_number": 79,
       "text": [
        "Task: count_words\n",
        "\n",
        "Description:\n",
        "\t\n",
        "\n",
        "Input(s):\n",
        "\t{'wiki_sf': None}\n",
        "\n",
        "Code:\n",
        "\n",
        "def count_words(task):\n",
        "    wiki_sf = task.inputs[\"wiki_sf\"]\n",
        "    wiki_sf[\"wc_stop_filtered\"] = wiki_sf[\"word_counts\"].dict_trim_by_keys(\n",
        "        gl.text.stopwords(), exclude=True)\n",
        "    word_counts = wiki_sf.flat_map([\"word\", \"count\"], \n",
        "                                    lambda x: [list(p) for p in x['wc_stop_filtered'].iteritems()])\n",
        "    word_counts = word_counts.groupby(key_columns=[\"word\"], \n",
        "                                      operations={'total_count':gl.aggregate.SUM(\"count\")})\n",
        "    task.outputs[\"word_counts\"] = word_counts\n",
        "\n",
        "\n",
        "Output(s):\n",
        "\t{'word_counts': None}\n",
        "\n",
        "Parameter(s):\n",
        "\t{}\n",
        "\n",
        "Package(s):\n",
        "\tset([])\n"
       ]
      }
     ],
     "prompt_number": 79
    },
    {
     "cell_type": "markdown",
     "metadata": {},
     "source": [
      "At this point, we still haven't actually executed any of our Tasks. When creating data pipelines like this, it's a good idea to run locally on a subset of the data before deploying to Hadoop or EC2 to run on our complete data set."
     ]
    },
    {
     "cell_type": "code",
     "collapsed": false,
     "input": [
      "tasks = [\n",
      "    (ingest_task, {\"raw_data_path\": \"./data/wikipedia/w1*\"}),\n",
      "    (count_words_task, {\n",
      "        \"wiki_sf\": (ingest_task, \"wiki_sf\"),\n",
      "        \"word_counts\": \"./data/wikipedia/word_counts.sframe\"})]\n",
      "\n",
      "local_env = gl.deploy.environment.LocalAsync(\"release-local-async\")\n",
      "job = gl.deploy.job.create(tasks, environment=local_env)"
     ],
     "language": "python",
     "metadata": {},
     "outputs": [
      {
       "output_type": "stream",
       "stream": "stderr",
       "text": [
        "[INFO] Preparing using environment: release-local-async\n"
       ]
      },
      {
       "output_type": "stream",
       "stream": "stderr",
       "text": [
        "[INFO] Validating job: 'job-ingest-release-local-async-1410801808'\n"
       ]
      },
      {
       "output_type": "stream",
       "stream": "stderr",
       "text": [
        "[INFO] Validation complete. Job: 'job-ingest-release-local-async-1410801808' ready for execution\n"
       ]
      },
      {
       "output_type": "stream",
       "stream": "stderr",
       "text": [
        "[INFO] Job saved successfully.\n"
       ]
      }
     ],
     "prompt_number": 85
    },
    {
     "cell_type": "markdown",
     "metadata": {},
     "source": [
      "Calling [graphlab.deploy.job.create()](http://graphlab.com/products/create/docs/generated/graphlab.SFrame.deploy.html#graphlab.deploy.job.create) has the effect of submitting a job. Because we chose LocalAsync as our [Environment](http://graphlab.com/products/create/docs/generated/graphlab.SFrame.deploy.html#graphlab.deploy.Environment), the Task is executed in the background. We can check on our job's status by calling the [get_status method](http://graphlab.com/products/create/docs/generated/graphlab.SFrame.deploy.html#graphlab.deploy.Job.get_status) on our Job. In order to submit this job to a remote cluster, we would have to change our environment to Hadoop or EC2, and make sure we pass along the appropriate paramters (eg. AWS credentials and remote file paths). This is left as an exercise to the reader."
     ]
    },
    {
     "cell_type": "code",
     "collapsed": false,
     "input": [
      "job.get_status()"
     ],
     "language": "python",
     "metadata": {},
     "outputs": [
      {
       "output_type": "stream",
       "stream": "stderr",
       "text": [
        "[INFO] Job saved successfully.\n"
       ]
      },
      {
       "metadata": {},
       "output_type": "pyout",
       "prompt_number": 91,
       "text": [
        "'Completed'"
       ]
      }
     ],
     "prompt_number": 91
    },
    {
     "cell_type": "markdown",
     "metadata": {},
     "source": [
      "<span style=\"color:red\">**Question 13:**</span> Open the word_counts SFrame generated above and sort by the count column. What are the ten most frequently occurring terms in Wikipedia?"
     ]
    },
    {
     "cell_type": "code",
     "collapsed": false,
     "input": [
      "word_counts = gl.SFrame(\"./data/wikipedia/word_counts.sframe\")\n",
      "word_counts.sort([\"total_count\"], ascending=False)"
     ],
     "language": "python",
     "metadata": {},
     "outputs": [
      {
       "html": [
        "<div style=\"max-height:1000px;max-width:1500px;overflow:auto;\"><table frame=\"box\" rules=\"cols\">\n",
        "    <tr>\n",
        "        <th style=\"padding-left: 1em; padding-right: 1em; text-align: center\">word</th>\n",
        "        <th style=\"padding-left: 1em; padding-right: 1em; text-align: center\">total_count</th>\n",
        "    </tr>\n",
        "    <tr>\n",
        "        <td style=\"padding-left: 1em; padding-right: 1em; text-align: center; vertical-align: top\">time</td>\n",
        "        <td style=\"padding-left: 1em; padding-right: 1em; text-align: center; vertical-align: top\">332864</td>\n",
        "    </tr>\n",
        "    <tr>\n",
        "        <td style=\"padding-left: 1em; padding-right: 1em; text-align: center; vertical-align: top\">years</td>\n",
        "        <td style=\"padding-left: 1em; padding-right: 1em; text-align: center; vertical-align: top\">306262</td>\n",
        "    </tr>\n",
        "    <tr>\n",
        "        <td style=\"padding-left: 1em; padding-right: 1em; text-align: center; vertical-align: top\">school</td>\n",
        "        <td style=\"padding-left: 1em; padding-right: 1em; text-align: center; vertical-align: top\">272292</td>\n",
        "    </tr>\n",
        "    <tr>\n",
        "        <td style=\"padding-left: 1em; padding-right: 1em; text-align: center; vertical-align: top\">made</td>\n",
        "        <td style=\"padding-left: 1em; padding-right: 1em; text-align: center; vertical-align: top\">233643</td>\n",
        "    </tr>\n",
        "    <tr>\n",
        "        <td style=\"padding-left: 1em; padding-right: 1em; text-align: center; vertical-align: top\">city</td>\n",
        "        <td style=\"padding-left: 1em; padding-right: 1em; text-align: center; vertical-align: top\">232078</td>\n",
        "    </tr>\n",
        "    <tr>\n",
        "        <td style=\"padding-left: 1em; padding-right: 1em; text-align: center; vertical-align: top\">world</td>\n",
        "        <td style=\"padding-left: 1em; padding-right: 1em; text-align: center; vertical-align: top\">224856</td>\n",
        "    </tr>\n",
        "    <tr>\n",
        "        <td style=\"padding-left: 1em; padding-right: 1em; text-align: center; vertical-align: top\">year</td>\n",
        "        <td style=\"padding-left: 1em; padding-right: 1em; text-align: center; vertical-align: top\">219533</td>\n",
        "    </tr>\n",
        "    <tr>\n",
        "        <td style=\"padding-left: 1em; padding-right: 1em; text-align: center; vertical-align: top\">part</td>\n",
        "        <td style=\"padding-left: 1em; padding-right: 1em; text-align: center; vertical-align: top\">203433</td>\n",
        "    </tr>\n",
        "    <tr>\n",
        "        <td style=\"padding-left: 1em; padding-right: 1em; text-align: center; vertical-align: top\">university</td>\n",
        "        <td style=\"padding-left: 1em; padding-right: 1em; text-align: center; vertical-align: top\">200343</td>\n",
        "    </tr>\n",
        "    <tr>\n",
        "        <td style=\"padding-left: 1em; padding-right: 1em; text-align: center; vertical-align: top\">state</td>\n",
        "        <td style=\"padding-left: 1em; padding-right: 1em; text-align: center; vertical-align: top\">198938</td>\n",
        "    </tr>\n",
        "    <tr>\n",
        "        <td style=\"padding-left: 1em; padding-right: 1em; text-align: center; vertical-align: top\">...</td>\n",
        "        <td style=\"padding-left: 1em; padding-right: 1em; text-align: center; vertical-align: top\">...</td>\n",
        "    </tr>\n",
        "</table>\n",
        "[3248717 rows x 2 columns]<br/>Note: Only the head of the SFrame is printed.<br/>You can use print_rows(num_rows=m, num_columns=n) to print more rows and columns.\n",
        "</div>"
       ],
       "metadata": {},
       "output_type": "pyout",
       "prompt_number": 92,
       "text": [
        "Columns:\n",
        "\tword\tstr\n",
        "\ttotal_count\tint\n",
        "\n",
        "Rows: 3248717\n",
        "\n",
        "Data:\n",
        "+------------+-------------+\n",
        "|    word    | total_count |\n",
        "+------------+-------------+\n",
        "|    time    |    332864   |\n",
        "|   years    |    306262   |\n",
        "|   school   |    272292   |\n",
        "|    made    |    233643   |\n",
        "|    city    |    232078   |\n",
        "|   world    |    224856   |\n",
        "|    year    |    219533   |\n",
        "|    part    |    203433   |\n",
        "| university |    200343   |\n",
        "|   state    |    198938   |\n",
        "|    ...     |     ...     |\n",
        "+------------+-------------+\n",
        "[3248717 rows x 2 columns]\n",
        "Note: Only the head of the SFrame is printed.\n",
        "You can use print_rows(num_rows=m, num_columns=n) to print more rows and columns."
       ]
      }
     ],
     "prompt_number": 92
    },
    {
     "cell_type": "markdown",
     "metadata": {},
     "source": [
      "In the examples above, we defined 2 Tasks to ingest all of Wikipedia, count the words in each document, filter stopwords, and generate aggregated counts for all of Wikipedia. We could have broken down this pipeline into more Tasks or consolidated them into a single Task. The right choice depends on the use case, but it's often useful to preserve the output of our data transformations for posterity. Additionally, writing smaller functions makes your code more modular, more readable, and easier to debug.\n",
      "\n",
      "Take a moment and try to come up with some additional questions you can ask of this data. For example, how many tokens are there in the corpus? How many tokens are there in the corpus after stopwords have been removed? How many unique terms are there in the corpus? What other transformations can you think of that might provide an interesting view of the corpus? Have fun!"
     ]
    }
   ],
   "metadata": {}
  }
 ]
}
