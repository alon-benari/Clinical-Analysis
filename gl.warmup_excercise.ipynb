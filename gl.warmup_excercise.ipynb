{
 "metadata": {
  "name": "",
  "signature": "sha256:219d05de8bbef1c4240e442129400acaa2af27eb81788a18fa0f5cf39d06d02c"
 },
 "nbformat": 3,
 "nbformat_minor": 0,
 "worksheets": [
  {
   "cells": [
    {
     "cell_type": "code",
     "collapsed": false,
     "input": [
      "import graphlab as gl"
     ],
     "language": "python",
     "metadata": {},
     "outputs": [],
     "prompt_number": 1
    },
    {
     "cell_type": "markdown",
     "metadata": {},
     "source": [
      "First, let's add a few vertices."
     ]
    },
    {
     "cell_type": "code",
     "collapsed": false,
     "input": [
      "vert_sf = gl.SFrame({'__id': [0, 1, 2, 3, 4], \n",
      "                     'name': ['Alice', 'Carlos', 'Yucheng', 'Chris', 'Susan']})\n",
      "g = gl.SGraph()\n",
      "g = g.add_vertices(vert_sf)"
     ],
     "language": "python",
     "metadata": {},
     "outputs": [],
     "prompt_number": 3
    },
    {
     "cell_type": "markdown",
     "metadata": {},
     "source": [
      "Now let's add edges. If person A takes food advice from person B, then I'll add an edge from A to B."
     ]
    },
    {
     "cell_type": "code",
     "collapsed": false,
     "input": [
      "edge_list = [gl.Edge(0, 1),\n",
      "             gl.Edge(1, 0),\n",
      "             gl.Edge(0, 2),\n",
      "             gl.Edge(3, 2),\n",
      "             gl.Edge(4, 1)]\n",
      "g = g.add_edges(edge_list)"
     ],
     "language": "python",
     "metadata": {},
     "outputs": [],
     "prompt_number": 4
    },
    {
     "cell_type": "code",
     "collapsed": false,
     "input": [
      "g.summary()"
     ],
     "language": "python",
     "metadata": {},
     "outputs": [
      {
       "metadata": {},
       "output_type": "pyout",
       "prompt_number": 5,
       "text": [
        "{'num_edges': 5, 'num_vertices': 5}"
       ]
      }
     ],
     "prompt_number": 5
    },
    {
     "cell_type": "code",
     "collapsed": false,
     "input": [
      "m = gl.pagerank.create(g)"
     ],
     "language": "python",
     "metadata": {},
     "outputs": [
      {
       "html": [
        "<pre>PROGRESS: Finish iteration 1 in 0.474854 secs.\n",
        "Total L1 change in pagerank = 2.55</pre>"
       ],
       "metadata": {},
       "output_type": "display_data",
       "text": [
        "PROGRESS: Finish iteration 1 in 0.474854 secs.\n",
        "Total L1 change in pagerank = 2.55"
       ]
      },
      {
       "html": [
        "<pre>PROGRESS: Finish iteration 2 in 0.429798 secs.\n",
        "Total L1 change in pagerank = 1.80625</pre>"
       ],
       "metadata": {},
       "output_type": "display_data",
       "text": [
        "PROGRESS: Finish iteration 2 in 0.429798 secs.\n",
        "Total L1 change in pagerank = 1.80625"
       ]
      },
      {
       "html": [
        "<pre>PROGRESS: Finish iteration 3 in 0.433978 secs.\n",
        "Total L1 change in pagerank = 0.921187</pre>"
       ],
       "metadata": {},
       "output_type": "display_data",
       "text": [
        "PROGRESS: Finish iteration 3 in 0.433978 secs.\n",
        "Total L1 change in pagerank = 0.921187"
       ]
      },
      {
       "html": [
        "<pre>PROGRESS: Finish iteration 4 in 0.42543 secs.\n",
        "Total L1 change in pagerank = 0.652508</pre>"
       ],
       "metadata": {},
       "output_type": "display_data",
       "text": [
        "PROGRESS: Finish iteration 4 in 0.42543 secs.\n",
        "Total L1 change in pagerank = 0.652508"
       ]
      },
      {
       "html": [
        "<pre>PROGRESS: Finish iteration 5 in 0.425271 secs.\n",
        "Total L1 change in pagerank = 0.332779</pre>"
       ],
       "metadata": {},
       "output_type": "display_data",
       "text": [
        "PROGRESS: Finish iteration 5 in 0.425271 secs.\n",
        "Total L1 change in pagerank = 0.332779"
       ]
      },
      {
       "html": [
        "<pre>PROGRESS: Finish iteration 6 in 0.425943 secs.\n",
        "Total L1 change in pagerank = 0.235718</pre>"
       ],
       "metadata": {},
       "output_type": "display_data",
       "text": [
        "PROGRESS: Finish iteration 6 in 0.425943 secs.\n",
        "Total L1 change in pagerank = 0.235718"
       ]
      },
      {
       "html": [
        "<pre>PROGRESS: Finish iteration 7 in 0.425379 secs.\n",
        "Total L1 change in pagerank = 0.120216</pre>"
       ],
       "metadata": {},
       "output_type": "display_data",
       "text": [
        "PROGRESS: Finish iteration 7 in 0.425379 secs.\n",
        "Total L1 change in pagerank = 0.120216"
       ]
      },
      {
       "html": [
        "<pre>PROGRESS: Finish iteration 8 in 0.421483 secs.\n",
        "Total L1 change in pagerank = 0.0851533</pre>"
       ],
       "metadata": {},
       "output_type": "display_data",
       "text": [
        "PROGRESS: Finish iteration 8 in 0.421483 secs.\n",
        "Total L1 change in pagerank = 0.0851533"
       ]
      },
      {
       "html": [
        "<pre>PROGRESS: Finish iteration 9 in 0.428318 secs.\n",
        "Total L1 change in pagerank = 0.0434282</pre>"
       ],
       "metadata": {},
       "output_type": "display_data",
       "text": [
        "PROGRESS: Finish iteration 9 in 0.428318 secs.\n",
        "Total L1 change in pagerank = 0.0434282"
       ]
      },
      {
       "html": [
        "<pre>PROGRESS: Finish iteration 10 in 0.422837 secs.\n",
        "Total L1 change in pagerank = 0.0307616</pre>"
       ],
       "metadata": {},
       "output_type": "display_data",
       "text": [
        "PROGRESS: Finish iteration 10 in 0.422837 secs.\n",
        "Total L1 change in pagerank = 0.0307616"
       ]
      },
      {
       "html": [
        "<pre>PROGRESS: Finish iteration 11 in 0.427096 secs.\n",
        "Total L1 change in pagerank = 0.0156884</pre>"
       ],
       "metadata": {},
       "output_type": "display_data",
       "text": [
        "PROGRESS: Finish iteration 11 in 0.427096 secs.\n",
        "Total L1 change in pagerank = 0.0156884"
       ]
      },
      {
       "html": [
        "<pre>PROGRESS: Finish iteration 12 in 0.43051 secs.\n",
        "Total L1 change in pagerank = 0.0111126</pre>"
       ],
       "metadata": {},
       "output_type": "display_data",
       "text": [
        "PROGRESS: Finish iteration 12 in 0.43051 secs.\n",
        "Total L1 change in pagerank = 0.0111126"
       ]
      },
      {
       "html": [
        "<pre>PROGRESS: Finish iteration 13 in 0.438039 secs.\n",
        "Total L1 change in pagerank = 0.00566745</pre>"
       ],
       "metadata": {},
       "output_type": "display_data",
       "text": [
        "PROGRESS: Finish iteration 13 in 0.438039 secs.\n",
        "Total L1 change in pagerank = 0.00566745"
       ]
      }
     ],
     "prompt_number": 6
    },
    {
     "cell_type": "code",
     "collapsed": false,
     "input": [
      "m"
     ],
     "language": "python",
     "metadata": {},
     "outputs": [
      {
       "metadata": {},
       "output_type": "pyout",
       "prompt_number": 7,
       "text": [
        "PagerankModel\n",
        "Graph:\n",
        "+--------------+---+\n",
        "| num_edges    | 5 |\n",
        "| num_vertices | 5 |\n",
        "+--------------+---+\n",
        "Result:\n",
        "+----------+-------------------------------------------------------+\n",
        "| graph    | SGraph. See m['graph']                                |\n",
        "| pagerank | SFrame with each vertex's pagerank. See m['pagerank'] |\n",
        "| delta    | 0.00566744501089                                      |\n",
        "+----------+-------------------------------------------------------+"
       ]
      }
     ],
     "prompt_number": 7
    },
    {
     "cell_type": "code",
     "collapsed": false,
     "input": [
      "m['pagerank']"
     ],
     "language": "python",
     "metadata": {},
     "outputs": [
      {
       "html": [
        "<div style=\"max-height:1000px;max-width:1500px;overflow:auto;\"><table frame=\"box\" rules=\"cols\">\n",
        "    <tr>\n",
        "        <th style=\"padding-left: 1em; padding-right: 1em; text-align: center\">__id</th>\n",
        "        <th style=\"padding-left: 1em; padding-right: 1em; text-align: center\">pagerank</th>\n",
        "        <th style=\"padding-left: 1em; padding-right: 1em; text-align: center\">delta</th>\n",
        "    </tr>\n",
        "    <tr>\n",
        "        <td style=\"padding-left: 1em; padding-right: 1em; text-align: center; vertical-align: top\">0</td>\n",
        "        <td style=\"padding-left: 1em; padding-right: 1em; text-align: center; vertical-align: top\">0.604989466349</td>\n",
        "        <td style=\"padding-left: 1em; padding-right: 1em; text-align: center; vertical-align: top\">0.00377829667393</td>\n",
        "    </tr>\n",
        "    <tr>\n",
        "        <td style=\"padding-left: 1em; padding-right: 1em; text-align: center; vertical-align: top\">2</td>\n",
        "        <td style=\"padding-left: 1em; padding-right: 1em; text-align: center; vertical-align: top\">0.536226299285</td>\n",
        "        <td style=\"padding-left: 1em; padding-right: 1em; text-align: center; vertical-align: top\">0.000944574168482</td>\n",
        "    </tr>\n",
        "    <tr>\n",
        "        <td style=\"padding-left: 1em; padding-right: 1em; text-align: center; vertical-align: top\">3</td>\n",
        "        <td style=\"padding-left: 1em; padding-right: 1em; text-align: center; vertical-align: top\">0.15</td>\n",
        "        <td style=\"padding-left: 1em; padding-right: 1em; text-align: center; vertical-align: top\">0.0</td>\n",
        "    </tr>\n",
        "    <tr>\n",
        "        <td style=\"padding-left: 1em; padding-right: 1em; text-align: center; vertical-align: top\">1</td>\n",
        "        <td style=\"padding-left: 1em; padding-right: 1em; text-align: center; vertical-align: top\">0.536226299285</td>\n",
        "        <td style=\"padding-left: 1em; padding-right: 1em; text-align: center; vertical-align: top\">0.000944574168482</td>\n",
        "    </tr>\n",
        "    <tr>\n",
        "        <td style=\"padding-left: 1em; padding-right: 1em; text-align: center; vertical-align: top\">4</td>\n",
        "        <td style=\"padding-left: 1em; padding-right: 1em; text-align: center; vertical-align: top\">0.15</td>\n",
        "        <td style=\"padding-left: 1em; padding-right: 1em; text-align: center; vertical-align: top\">0.0</td>\n",
        "    </tr>\n",
        "</table>\n",
        "[5 rows x 3 columns]<br/>\n",
        "</div>"
       ],
       "metadata": {},
       "output_type": "pyout",
       "prompt_number": 8,
       "text": [
        "Columns:\n",
        "\t__id\tint\n",
        "\tpagerank\tfloat\n",
        "\tdelta\tfloat\n",
        "\n",
        "Rows: 5\n",
        "\n",
        "Data:\n",
        "+------+----------------+-------------------+\n",
        "| __id |    pagerank    |       delta       |\n",
        "+------+----------------+-------------------+\n",
        "|  0   | 0.604989466349 |  0.00377829667393 |\n",
        "|  2   | 0.536226299285 | 0.000944574168482 |\n",
        "|  3   |      0.15      |        0.0        |\n",
        "|  1   | 0.536226299285 | 0.000944574168482 |\n",
        "|  4   |      0.15      |        0.0        |\n",
        "+------+----------------+-------------------+\n",
        "[5 rows x 3 columns]"
       ]
      }
     ],
     "prompt_number": 8
    },
    {
     "cell_type": "code",
     "collapsed": false,
     "input": [
      "m['pagerank'].join(vert_sf, on='__id')"
     ],
     "language": "python",
     "metadata": {},
     "outputs": [
      {
       "html": [
        "<div style=\"max-height:1000px;max-width:1500px;overflow:auto;\"><table frame=\"box\" rules=\"cols\">\n",
        "    <tr>\n",
        "        <th style=\"padding-left: 1em; padding-right: 1em; text-align: center\">__id</th>\n",
        "        <th style=\"padding-left: 1em; padding-right: 1em; text-align: center\">pagerank</th>\n",
        "        <th style=\"padding-left: 1em; padding-right: 1em; text-align: center\">delta</th>\n",
        "        <th style=\"padding-left: 1em; padding-right: 1em; text-align: center\">name</th>\n",
        "    </tr>\n",
        "    <tr>\n",
        "        <td style=\"padding-left: 1em; padding-right: 1em; text-align: center; vertical-align: top\">0</td>\n",
        "        <td style=\"padding-left: 1em; padding-right: 1em; text-align: center; vertical-align: top\">0.604989466349</td>\n",
        "        <td style=\"padding-left: 1em; padding-right: 1em; text-align: center; vertical-align: top\">0.00377829667393</td>\n",
        "        <td style=\"padding-left: 1em; padding-right: 1em; text-align: center; vertical-align: top\">Alice</td>\n",
        "    </tr>\n",
        "    <tr>\n",
        "        <td style=\"padding-left: 1em; padding-right: 1em; text-align: center; vertical-align: top\">2</td>\n",
        "        <td style=\"padding-left: 1em; padding-right: 1em; text-align: center; vertical-align: top\">0.536226299285</td>\n",
        "        <td style=\"padding-left: 1em; padding-right: 1em; text-align: center; vertical-align: top\">0.000944574168482</td>\n",
        "        <td style=\"padding-left: 1em; padding-right: 1em; text-align: center; vertical-align: top\">Yucheng</td>\n",
        "    </tr>\n",
        "    <tr>\n",
        "        <td style=\"padding-left: 1em; padding-right: 1em; text-align: center; vertical-align: top\">3</td>\n",
        "        <td style=\"padding-left: 1em; padding-right: 1em; text-align: center; vertical-align: top\">0.15</td>\n",
        "        <td style=\"padding-left: 1em; padding-right: 1em; text-align: center; vertical-align: top\">0.0</td>\n",
        "        <td style=\"padding-left: 1em; padding-right: 1em; text-align: center; vertical-align: top\">Chris</td>\n",
        "    </tr>\n",
        "    <tr>\n",
        "        <td style=\"padding-left: 1em; padding-right: 1em; text-align: center; vertical-align: top\">1</td>\n",
        "        <td style=\"padding-left: 1em; padding-right: 1em; text-align: center; vertical-align: top\">0.536226299285</td>\n",
        "        <td style=\"padding-left: 1em; padding-right: 1em; text-align: center; vertical-align: top\">0.000944574168482</td>\n",
        "        <td style=\"padding-left: 1em; padding-right: 1em; text-align: center; vertical-align: top\">Carlos</td>\n",
        "    </tr>\n",
        "    <tr>\n",
        "        <td style=\"padding-left: 1em; padding-right: 1em; text-align: center; vertical-align: top\">4</td>\n",
        "        <td style=\"padding-left: 1em; padding-right: 1em; text-align: center; vertical-align: top\">0.15</td>\n",
        "        <td style=\"padding-left: 1em; padding-right: 1em; text-align: center; vertical-align: top\">0.0</td>\n",
        "        <td style=\"padding-left: 1em; padding-right: 1em; text-align: center; vertical-align: top\">Susan</td>\n",
        "    </tr>\n",
        "</table>\n",
        "[5 rows x 4 columns]<br/>\n",
        "</div>"
       ],
       "metadata": {},
       "output_type": "pyout",
       "prompt_number": 9,
       "text": [
        "Columns:\n",
        "\t__id\tint\n",
        "\tpagerank\tfloat\n",
        "\tdelta\tfloat\n",
        "\tname\tstr\n",
        "\n",
        "Rows: 5\n",
        "\n",
        "Data:\n",
        "+------+----------------+-------------------+---------+\n",
        "| __id |    pagerank    |       delta       |   name  |\n",
        "+------+----------------+-------------------+---------+\n",
        "|  0   | 0.604989466349 |  0.00377829667393 |  Alice  |\n",
        "|  2   | 0.536226299285 | 0.000944574168482 | Yucheng |\n",
        "|  3   |      0.15      |        0.0        |  Chris  |\n",
        "|  1   | 0.536226299285 | 0.000944574168482 |  Carlos |\n",
        "|  4   |      0.15      |        0.0        |  Susan  |\n",
        "+------+----------------+-------------------+---------+\n",
        "[5 rows x 4 columns]"
       ]
      }
     ],
     "prompt_number": 9
    },
    {
     "cell_type": "code",
     "collapsed": false,
     "input": [],
     "language": "python",
     "metadata": {},
     "outputs": []
    }
   ],
   "metadata": {}
  }
 ]
}
